{
 "cells": [
  {
   "cell_type": "code",
   "execution_count": null,
   "metadata": {
    "collapsed": true
   },
   "outputs": [],
   "source": [
    "%load_ext autoreload\n",
    "%autoreload 2"
   ]
  },
  {
   "cell_type": "code",
   "execution_count": null,
   "metadata": {
    "collapsed": false
   },
   "outputs": [],
   "source": [
    "from IPython.display import display, Markdown, display_html\n",
    "import os\n",
    "import pandas as pd\n",
    "import sys\n",
    "\n",
    "module_path = os.path.abspath(os.path.join('../twitterquery'))\n",
    "if module_path not in sys.path:\n",
    "    sys.path.append(module_path)\n",
    "import settings\n",
    "import utils"
   ]
  },
  {
   "cell_type": "code",
   "execution_count": null,
   "metadata": {
    "collapsed": true
   },
   "outputs": [],
   "source": [
    "def display_results_summary():\n",
    "    topics = utils.get_topics()\n",
    "    for topic in topics:\n",
    "        display(Markdown(\"# {} \".format(utils.get_readable_topic(topic))))\n",
    "        phase1, phase2 = utils.get_all_stats(topic, stat_methods)\n",
    "        display(Markdown(\"## Phase 1 \"))\n",
    "        display(phase1)\n",
    "        utils.plot_phase1_stats(topic)\n",
    "        display(Markdown(\"## Phase 2 \"))\n",
    "        display(phase2)\n",
    "        display(Markdown('---'))        \n",
    "\n",
    "def display_features(feat_methods=utils.get_feature_methods(),\n",
    "                     topics=utils.get_topics(), \n",
    "                     to_latex=False):\n",
    "    for topic in topics:\n",
    "        display(Markdown(\"# {} \".format(utils.get_readable_topic(topic))))\n",
    "        topic_feats = []\n",
    "        for method in feat_methods:\n",
    "            display(Markdown(\"### {}\".format(method)))\n",
    "            top_features = utils.summarise_feats(topic, method)\n",
    "            if to_latex is True:\n",
    "                print(top_features.iloc[:15, :2].to_latex(index=False))\n",
    "            else:\n",
    "                display(top_features)\n",
    "        display(Markdown('---'))    \n",
    "        \n",
    "def phase1_to_latex():\n",
    "    topics = utils.get_topics()\n",
    "    for topic in topics:\n",
    "        display(Markdown(\"# {} \".format(utils.get_readable_topic(topic))))\n",
    "        phase1, phase2 = utils.get_all_stats(topic, settings.STAT_METHODS)\n",
    "        display(Markdown(\"## Phase 1 \"))\n",
    "        display(phase1)\n",
    "        utils.plot_phase1_stats(topic)\n",
    "        display(Markdown(\"## Phase 2 \"))\n",
    "        display(phase2)\n",
    "        display(Markdown('---'))        "
   ]
  },
  {
   "cell_type": "code",
   "execution_count": null,
   "metadata": {
    "collapsed": false
   },
   "outputs": [],
   "source": [
    "stat_summary_pd = pd.DataFrame()\n",
    "for method in settings.STAT_METHODS:\n",
    "    method_stats_pd = pd.DataFrame()\n",
    "    for topic in settings.TOPICS:\n",
    "        method_stats = utils.load_results_stats(topic, method)[0].iloc[:, -3:]\n",
    "        method_stats_pd = method_stats_pd.append(method_stats)\n",
    "    method_results_summary = method_stats_pd.apply(utils.get_confidence_interval, axis=0).rename(method)\n",
    "    stat_summary_pd = stat_summary_pd.append(method_results_summary)"
   ]
  },
  {
   "cell_type": "code",
   "execution_count": null,
   "metadata": {
    "collapsed": false,
    "scrolled": true
   },
   "outputs": [],
   "source": [
    "stat_summary_pd.iloc[[0, 1, 2, 4, 6], [2, 1, 0]].to_latex()"
   ]
  },
  {
   "cell_type": "code",
   "execution_count": null,
   "metadata": {
    "collapsed": false
   },
   "outputs": [],
   "source": [
    "print(stat_summary_pd.iloc[[6], [2, 1, 0]].to_latex(header=False, index=False).replace('+\\\\textbackslash-', '$\\pm$'))"
   ]
  },
  {
   "cell_type": "code",
   "execution_count": null,
   "metadata": {
    "collapsed": false
   },
   "outputs": [],
   "source": [
    "stat_summary_pd.iloc[[6], [2, 1, 0]]"
   ]
  },
  {
   "cell_type": "markdown",
   "metadata": {},
   "source": [
    "# Selected Features\n",
    "\n",
    "Display commong features selected across the k folds:"
   ]
  },
  {
   "cell_type": "code",
   "execution_count": null,
   "metadata": {
    "collapsed": false,
    "scrolled": true
   },
   "outputs": [],
   "source": [
    "display_features()"
   ]
  },
  {
   "cell_type": "markdown",
   "metadata": {
    "collapsed": true
   },
   "source": [
    "# Latex"
   ]
  },
  {
   "cell_type": "code",
   "execution_count": null,
   "metadata": {
    "collapsed": false
   },
   "outputs": [],
   "source": [
    "_, phase2 = utils.get_all_stats('Social_issue', settings.STAT_METHODS)\n",
    "ph_to_lat = phase2.iloc[[0, 1, 3, 5, 7],:]\n",
    "ph_to_lat.index = ['Firehose', 'TopK', 'Greedy CILP','Greedy WILP', 'Greedy CAILP']\n",
    "print(ph_to_lat.to_latex(header=False, index=True).replace('+\\\\textbackslash-', '$\\pm$'))"
   ]
  },
  {
   "cell_type": "markdown",
   "metadata": {},
   "source": [
    "---"
   ]
  }
 ],
 "metadata": {
  "kernelspec": {
   "display_name": "Python 2",
   "language": "python",
   "name": "python2"
  },
  "language_info": {
   "codemirror_mode": {
    "name": "ipython",
    "version": 2
   },
   "file_extension": ".py",
   "mimetype": "text/x-python",
   "name": "python",
   "nbconvert_exporter": "python",
   "pygments_lexer": "ipython2",
   "version": "2.7.5"
  }
 },
 "nbformat": 4,
 "nbformat_minor": 1
}
