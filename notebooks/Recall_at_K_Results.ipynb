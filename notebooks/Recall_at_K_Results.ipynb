{
 "cells": [
  {
   "cell_type": "code",
   "execution_count": 2,
   "metadata": {
    "collapsed": false
   },
   "outputs": [],
   "source": [
    "from IPython.display import display, Markdown, display_html\n",
    "import numpy as np\n",
    "import pandas as pd\n",
    "import pickle\n",
    "import sys\n",
    "\n",
    "module_path = os.path.abspath(os.path.join('..'))\n",
    "if module_path not in sys.path:\n",
    "    sys.path.append(module_path)\n",
    "import twitterquery as tq"
   ]
  },
  {
   "cell_type": "code",
   "execution_count": 3,
   "metadata": {
    "collapsed": true
   },
   "outputs": [],
   "source": [
    "results_dir = '../results/2019/'\n",
    "def read_results_pickle(topic):\n",
    "    file_dir = results_dir + topic + '/ratk_results.pickle'\n",
    "    with open(file_dir, 'rb') as f:\n",
    "        results_dict = pickle.load(f)\n",
    "\n",
    "    return results_dict\n",
    "\n",
    "def display_ratk_results(topic):\n",
    "    display(Markdown(\"# {}   \".format(tq.utils.get_readable_topic(topic))))\n",
    "\n",
    "    res_pd = pd.DataFrame()\n",
    "    recall_confidence_intervals = {}\n",
    "\n",
    "    methods = ['firehose', 'topk', 'cilp', 'wilp', 'cailp']\n",
    "    method_names = {\n",
    "        'firehose': 'Firehose',\n",
    "        'topk': 'TopK',\n",
    "        'cilp': 'CILP',\n",
    "        'wilp': 'WILP',\n",
    "        'cailp': 'CAILP'}\n",
    "    res_dict = read_results_pickle(topic)\n",
    "    total_ci = tq.utils.get_confidence_interval_no_decimals(res_dict['total'])\n",
    "    display(Markdown(\"Total Number of Positive Tweets in Each Split = {}\".format(total_ci)))\n",
    "    for method in methods:\n",
    "        positives_for_method = res_dict[method]\n",
    "        total_positives = res_dict['total']\n",
    "        recalls = np.divide(positives_for_method,\n",
    "                            total_positives)\n",
    "        recall_confidence_intervals[method] = tq.utils.get_confidence_interval_vals(recalls)\n",
    "        res_pd = res_pd.append([[method_names[method], \n",
    "                                 tq.utils.get_confidence_interval_no_decimals(positives_for_method),\n",
    "                                 tq.utils.get_confidence_interval(recalls)]],\n",
    "                               ignore_index=True)\n",
    "\n",
    "    res_pd.columns = ['Method', '# Positives Retrieved', 'Recall']\n",
    "    display(res_pd, index=False)\n",
    "\n",
    "    tq.utils.plot_ratk_recalls(recall_confidence_intervals, topic=topic)\n",
    "    display(Markdown(\"---\"))    "
   ]
  },
  {
   "cell_type": "code",
   "execution_count": 4,
   "metadata": {
    "collapsed": false,
    "scrolled": false
   },
   "outputs": [
    {
     "data": {
      "text/markdown": [
       "# Natural Disaster   "
      ],
      "text/plain": [
       "<IPython.core.display.Markdown object>"
      ]
     },
     "metadata": {},
     "output_type": "display_data"
    },
    {
     "data": {
      "text/markdown": [
       "Total Number of Positive Tweets in Each Split = 17,497 +\\- 155"
      ],
      "text/plain": [
       "<IPython.core.display.Markdown object>"
      ]
     },
     "metadata": {},
     "output_type": "display_data"
    },
    {
     "data": {
      "text/html": [
       "<div>\n",
       "<table border=\"1\" class=\"dataframe\">\n",
       "  <thead>\n",
       "    <tr style=\"text-align: right;\">\n",
       "      <th></th>\n",
       "      <th>Method</th>\n",
       "      <th># Positives Retrieved</th>\n",
       "      <th>Recall</th>\n",
       "    </tr>\n",
       "  </thead>\n",
       "  <tbody>\n",
       "    <tr>\n",
       "      <th>0</th>\n",
       "      <td>Firehose</td>\n",
       "      <td>116 +\\- 9</td>\n",
       "      <td>0.007 +\\- 0.001</td>\n",
       "    </tr>\n",
       "    <tr>\n",
       "      <th>1</th>\n",
       "      <td>TopK</td>\n",
       "      <td>4,357 +\\- 154</td>\n",
       "      <td>0.249 +\\- 0.010</td>\n",
       "    </tr>\n",
       "    <tr>\n",
       "      <th>2</th>\n",
       "      <td>CILP</td>\n",
       "      <td>1,241 +\\- 121</td>\n",
       "      <td>0.071 +\\- 0.007</td>\n",
       "    </tr>\n",
       "    <tr>\n",
       "      <th>3</th>\n",
       "      <td>WILP</td>\n",
       "      <td>1,046 +\\- 334</td>\n",
       "      <td>0.060 +\\- 0.019</td>\n",
       "    </tr>\n",
       "    <tr>\n",
       "      <th>4</th>\n",
       "      <td>CAILP</td>\n",
       "      <td>7,560 +\\- 1,669</td>\n",
       "      <td>0.432 +\\- 0.098</td>\n",
       "    </tr>\n",
       "  </tbody>\n",
       "</table>\n",
       "</div>"
      ],
      "text/plain": [
       "     Method # Positives Retrieved           Recall\n",
       "0  Firehose             116 +\\- 9  0.007 +\\- 0.001\n",
       "1      TopK         4,357 +\\- 154  0.249 +\\- 0.010\n",
       "2      CILP         1,241 +\\- 121  0.071 +\\- 0.007\n",
       "3      WILP         1,046 +\\- 334  0.060 +\\- 0.019\n",
       "4     CAILP       7,560 +\\- 1,669  0.432 +\\- 0.098"
      ]
     },
     "metadata": {},
     "output_type": "display_data"
    },
    {
     "data": {
      "image/png": "[encoded data removed]",
      "text/plain": [
       "<matplotlib.figure.Figure at 0x5eec190>"
      ]
     },
     "metadata": {},
     "output_type": "display_data"
    },
    {
     "data": {
      "text/markdown": [
       "---"
      ],
      "text/plain": [
       "<IPython.core.display.Markdown object>"
      ]
     },
     "metadata": {},
     "output_type": "display_data"
    },
    {
     "data": {
      "text/markdown": [
       "# Social Issues   "
      ],
      "text/plain": [
       "<IPython.core.display.Markdown object>"
      ]
     },
     "metadata": {},
     "output_type": "display_data"
    },
    {
     "data": {
      "text/markdown": [
       "Total Number of Positive Tweets in Each Split = 74,698 +\\- 242"
      ],
      "text/plain": [
       "<IPython.core.display.Markdown object>"
      ]
     },
     "metadata": {},
     "output_type": "display_data"
    },
    {
     "data": {
      "text/html": [
       "<div>\n",
       "<table border=\"1\" class=\"dataframe\">\n",
       "  <thead>\n",
       "    <tr style=\"text-align: right;\">\n",
       "      <th></th>\n",
       "      <th>Method</th>\n",
       "      <th># Positives Retrieved</th>\n",
       "      <th>Recall</th>\n",
       "    </tr>\n",
       "  </thead>\n",
       "  <tbody>\n",
       "    <tr>\n",
       "      <th>0</th>\n",
       "      <td>Firehose</td>\n",
       "      <td>788 +\\- 40</td>\n",
       "      <td>0.011 +\\- 0.001</td>\n",
       "    </tr>\n",
       "    <tr>\n",
       "      <th>1</th>\n",
       "      <td>TopK</td>\n",
       "      <td>5,988 +\\- 33</td>\n",
       "      <td>0.080 +\\- 0.000</td>\n",
       "    </tr>\n",
       "    <tr>\n",
       "      <th>2</th>\n",
       "      <td>CILP</td>\n",
       "      <td>2,573 +\\- 122</td>\n",
       "      <td>0.034 +\\- 0.002</td>\n",
       "    </tr>\n",
       "    <tr>\n",
       "      <th>3</th>\n",
       "      <td>WILP</td>\n",
       "      <td>4,905 +\\- 1,270</td>\n",
       "      <td>0.066 +\\- 0.017</td>\n",
       "    </tr>\n",
       "    <tr>\n",
       "      <th>4</th>\n",
       "      <td>CAILP</td>\n",
       "      <td>7,510 +\\- 1,401</td>\n",
       "      <td>0.101 +\\- 0.019</td>\n",
       "    </tr>\n",
       "  </tbody>\n",
       "</table>\n",
       "</div>"
      ],
      "text/plain": [
       "     Method # Positives Retrieved           Recall\n",
       "0  Firehose            788 +\\- 40  0.011 +\\- 0.001\n",
       "1      TopK          5,988 +\\- 33  0.080 +\\- 0.000\n",
       "2      CILP         2,573 +\\- 122  0.034 +\\- 0.002\n",
       "3      WILP       4,905 +\\- 1,270  0.066 +\\- 0.017\n",
       "4     CAILP       7,510 +\\- 1,401  0.101 +\\- 0.019"
      ]
     },
     "metadata": {},
     "output_type": "display_data"
    },
    {
     "data": {
      "image/png": "[encoded data removed]",
      "text/plain": [
       "<matplotlib.figure.Figure at 0x60053d0>"
      ]
     },
     "metadata": {},
     "output_type": "display_data"
    },
    {
     "data": {
      "text/markdown": [
       "---"
      ],
      "text/plain": [
       "<IPython.core.display.Markdown object>"
      ]
     },
     "metadata": {},
     "output_type": "display_data"
    },
    {
     "data": {
      "text/markdown": [
       "# Space   "
      ],
      "text/plain": [
       "<IPython.core.display.Markdown object>"
      ]
     },
     "metadata": {},
     "output_type": "display_data"
    },
    {
     "data": {
      "text/markdown": [
       "Total Number of Positive Tweets in Each Split = 80,762 +\\- 91"
      ],
      "text/plain": [
       "<IPython.core.display.Markdown object>"
      ]
     },
     "metadata": {},
     "output_type": "display_data"
    },
    {
     "data": {
      "text/html": [
       "<div>\n",
       "<table border=\"1\" class=\"dataframe\">\n",
       "  <thead>\n",
       "    <tr style=\"text-align: right;\">\n",
       "      <th></th>\n",
       "      <th>Method</th>\n",
       "      <th># Positives Retrieved</th>\n",
       "      <th>Recall</th>\n",
       "    </tr>\n",
       "  </thead>\n",
       "  <tbody>\n",
       "    <tr>\n",
       "      <th>0</th>\n",
       "      <td>Firehose</td>\n",
       "      <td>507 +\\- 23</td>\n",
       "      <td>0.006 +\\- 0.000</td>\n",
       "    </tr>\n",
       "    <tr>\n",
       "      <th>1</th>\n",
       "      <td>TopK</td>\n",
       "      <td>3,663 +\\- 85</td>\n",
       "      <td>0.045 +\\- 0.001</td>\n",
       "    </tr>\n",
       "    <tr>\n",
       "      <th>2</th>\n",
       "      <td>CILP</td>\n",
       "      <td>1,488 +\\- 74</td>\n",
       "      <td>0.018 +\\- 0.001</td>\n",
       "    </tr>\n",
       "    <tr>\n",
       "      <th>3</th>\n",
       "      <td>WILP</td>\n",
       "      <td>1,224 +\\- 258</td>\n",
       "      <td>0.015 +\\- 0.003</td>\n",
       "    </tr>\n",
       "    <tr>\n",
       "      <th>4</th>\n",
       "      <td>CAILP</td>\n",
       "      <td>8,393 +\\- 1,966</td>\n",
       "      <td>0.104 +\\- 0.024</td>\n",
       "    </tr>\n",
       "  </tbody>\n",
       "</table>\n",
       "</div>"
      ],
      "text/plain": [
       "     Method # Positives Retrieved           Recall\n",
       "0  Firehose            507 +\\- 23  0.006 +\\- 0.000\n",
       "1      TopK          3,663 +\\- 85  0.045 +\\- 0.001\n",
       "2      CILP          1,488 +\\- 74  0.018 +\\- 0.001\n",
       "3      WILP         1,224 +\\- 258  0.015 +\\- 0.003\n",
       "4     CAILP       8,393 +\\- 1,966  0.104 +\\- 0.024"
      ]
     },
     "metadata": {},
     "output_type": "display_data"
    },
    {
     "data": {
      "image/png": "[encoded data removed]",
      "text/plain": [
       "<matplotlib.figure.Figure at 0x66815d0>"
      ]
     },
     "metadata": {},
     "output_type": "display_data"
    },
    {
     "data": {
      "text/markdown": [
       "---"
      ],
      "text/plain": [
       "<IPython.core.display.Markdown object>"
      ]
     },
     "metadata": {},
     "output_type": "display_data"
    },
    {
     "data": {
      "text/markdown": [
       "# Soccer   "
      ],
      "text/plain": [
       "<IPython.core.display.Markdown object>"
      ]
     },
     "metadata": {},
     "output_type": "display_data"
    },
    {
     "data": {
      "text/markdown": [
       "Total Number of Positive Tweets in Each Split = 272,407 +\\- 818"
      ],
      "text/plain": [
       "<IPython.core.display.Markdown object>"
      ]
     },
     "metadata": {},
     "output_type": "display_data"
    },
    {
     "data": {
      "text/html": [
       "<div>\n",
       "<table border=\"1\" class=\"dataframe\">\n",
       "  <thead>\n",
       "    <tr style=\"text-align: right;\">\n",
       "      <th></th>\n",
       "      <th>Method</th>\n",
       "      <th># Positives Retrieved</th>\n",
       "      <th>Recall</th>\n",
       "    </tr>\n",
       "  </thead>\n",
       "  <tbody>\n",
       "    <tr>\n",
       "      <th>0</th>\n",
       "      <td>Firehose</td>\n",
       "      <td>1,440 +\\- 42</td>\n",
       "      <td>0.005 +\\- 0.000</td>\n",
       "    </tr>\n",
       "    <tr>\n",
       "      <th>1</th>\n",
       "      <td>TopK</td>\n",
       "      <td>5,850 +\\- 43</td>\n",
       "      <td>0.021 +\\- 0.000</td>\n",
       "    </tr>\n",
       "    <tr>\n",
       "      <th>2</th>\n",
       "      <td>CILP</td>\n",
       "      <td>4,394 +\\- 95</td>\n",
       "      <td>0.016 +\\- 0.000</td>\n",
       "    </tr>\n",
       "    <tr>\n",
       "      <th>3</th>\n",
       "      <td>WILP</td>\n",
       "      <td>4,221 +\\- 312</td>\n",
       "      <td>0.015 +\\- 0.001</td>\n",
       "    </tr>\n",
       "    <tr>\n",
       "      <th>4</th>\n",
       "      <td>CAILP</td>\n",
       "      <td>11,177 +\\- 1,211</td>\n",
       "      <td>0.041 +\\- 0.004</td>\n",
       "    </tr>\n",
       "  </tbody>\n",
       "</table>\n",
       "</div>"
      ],
      "text/plain": [
       "     Method # Positives Retrieved           Recall\n",
       "0  Firehose          1,440 +\\- 42  0.005 +\\- 0.000\n",
       "1      TopK          5,850 +\\- 43  0.021 +\\- 0.000\n",
       "2      CILP          4,394 +\\- 95  0.016 +\\- 0.000\n",
       "3      WILP         4,221 +\\- 312  0.015 +\\- 0.001\n",
       "4     CAILP      11,177 +\\- 1,211  0.041 +\\- 0.004"
      ]
     },
     "metadata": {},
     "output_type": "display_data"
    },
    {
     "data": {
      "image/png": "[encoded data removed]",
      "text/plain": [
       "<matplotlib.figure.Figure at 0x24837d0>"
      ]
     },
     "metadata": {},
     "output_type": "display_data"
    },
    {
     "data": {
      "text/markdown": [
       "---"
      ],
      "text/plain": [
       "<IPython.core.display.Markdown object>"
      ]
     },
     "metadata": {},
     "output_type": "display_data"
    },
    {
     "data": {
      "text/markdown": [
       "# Human Disasters   "
      ],
      "text/plain": [
       "<IPython.core.display.Markdown object>"
      ]
     },
     "metadata": {},
     "output_type": "display_data"
    },
    {
     "data": {
      "text/markdown": [
       "Total Number of Positive Tweets in Each Split = 154,596 +\\- 203"
      ],
      "text/plain": [
       "<IPython.core.display.Markdown object>"
      ]
     },
     "metadata": {},
     "output_type": "display_data"
    },
    {
     "data": {
      "text/html": [
       "<div>\n",
       "<table border=\"1\" class=\"dataframe\">\n",
       "  <thead>\n",
       "    <tr style=\"text-align: right;\">\n",
       "      <th></th>\n",
       "      <th>Method</th>\n",
       "      <th># Positives Retrieved</th>\n",
       "      <th>Recall</th>\n",
       "    </tr>\n",
       "  </thead>\n",
       "  <tbody>\n",
       "    <tr>\n",
       "      <th>0</th>\n",
       "      <td>Firehose</td>\n",
       "      <td>785 +\\- 54</td>\n",
       "      <td>0.005 +\\- 0.000</td>\n",
       "    </tr>\n",
       "    <tr>\n",
       "      <th>1</th>\n",
       "      <td>TopK</td>\n",
       "      <td>6,201 +\\- 265</td>\n",
       "      <td>0.040 +\\- 0.002</td>\n",
       "    </tr>\n",
       "    <tr>\n",
       "      <th>2</th>\n",
       "      <td>CILP</td>\n",
       "      <td>1,264 +\\- 86</td>\n",
       "      <td>0.008 +\\- 0.001</td>\n",
       "    </tr>\n",
       "    <tr>\n",
       "      <th>3</th>\n",
       "      <td>WILP</td>\n",
       "      <td>1,524 +\\- 77</td>\n",
       "      <td>0.010 +\\- 0.001</td>\n",
       "    </tr>\n",
       "    <tr>\n",
       "      <th>4</th>\n",
       "      <td>CAILP</td>\n",
       "      <td>8,863 +\\- 1,318</td>\n",
       "      <td>0.057 +\\- 0.009</td>\n",
       "    </tr>\n",
       "  </tbody>\n",
       "</table>\n",
       "</div>"
      ],
      "text/plain": [
       "     Method # Positives Retrieved           Recall\n",
       "0  Firehose            785 +\\- 54  0.005 +\\- 0.000\n",
       "1      TopK         6,201 +\\- 265  0.040 +\\- 0.002\n",
       "2      CILP          1,264 +\\- 86  0.008 +\\- 0.001\n",
       "3      WILP          1,524 +\\- 77  0.010 +\\- 0.001\n",
       "4     CAILP       8,863 +\\- 1,318  0.057 +\\- 0.009"
      ]
     },
     "metadata": {},
     "output_type": "display_data"
    },
    {
     "data": {
      "image/png": "[encoded data removed]",
      "text/plain": [
       "<matplotlib.figure.Figure at 0x6608450>"
      ]
     },
     "metadata": {},
     "output_type": "display_data"
    },
    {
     "data": {
      "text/markdown": [
       "---"
      ],
      "text/plain": [
       "<IPython.core.display.Markdown object>"
      ]
     },
     "metadata": {},
     "output_type": "display_data"
    },
    {
     "data": {
      "text/markdown": [
       "# Tennis   "
      ],
      "text/plain": [
       "<IPython.core.display.Markdown object>"
      ]
     },
     "metadata": {},
     "output_type": "display_data"
    },
    {
     "data": {
      "text/markdown": [
       "Total Number of Positive Tweets in Each Split = 16,917 +\\- 35"
      ],
      "text/plain": [
       "<IPython.core.display.Markdown object>"
      ]
     },
     "metadata": {},
     "output_type": "display_data"
    },
    {
     "data": {
      "text/html": [
       "<div>\n",
       "<table border=\"1\" class=\"dataframe\">\n",
       "  <thead>\n",
       "    <tr style=\"text-align: right;\">\n",
       "      <th></th>\n",
       "      <th>Method</th>\n",
       "      <th># Positives Retrieved</th>\n",
       "      <th>Recall</th>\n",
       "    </tr>\n",
       "  </thead>\n",
       "  <tbody>\n",
       "    <tr>\n",
       "      <th>0</th>\n",
       "      <td>Firehose</td>\n",
       "      <td>32 +\\- 3</td>\n",
       "      <td>0.002 +\\- 0.000</td>\n",
       "    </tr>\n",
       "    <tr>\n",
       "      <th>1</th>\n",
       "      <td>TopK</td>\n",
       "      <td>3,331 +\\- 116</td>\n",
       "      <td>0.197 +\\- 0.007</td>\n",
       "    </tr>\n",
       "    <tr>\n",
       "      <th>2</th>\n",
       "      <td>CILP</td>\n",
       "      <td>525 +\\- 58</td>\n",
       "      <td>0.031 +\\- 0.003</td>\n",
       "    </tr>\n",
       "    <tr>\n",
       "      <th>3</th>\n",
       "      <td>WILP</td>\n",
       "      <td>371 +\\- 90</td>\n",
       "      <td>0.022 +\\- 0.005</td>\n",
       "    </tr>\n",
       "    <tr>\n",
       "      <th>4</th>\n",
       "      <td>CAILP</td>\n",
       "      <td>8,580 +\\- 494</td>\n",
       "      <td>0.507 +\\- 0.029</td>\n",
       "    </tr>\n",
       "  </tbody>\n",
       "</table>\n",
       "</div>"
      ],
      "text/plain": [
       "     Method # Positives Retrieved           Recall\n",
       "0  Firehose              32 +\\- 3  0.002 +\\- 0.000\n",
       "1      TopK         3,331 +\\- 116  0.197 +\\- 0.007\n",
       "2      CILP            525 +\\- 58  0.031 +\\- 0.003\n",
       "3      WILP            371 +\\- 90  0.022 +\\- 0.005\n",
       "4     CAILP         8,580 +\\- 494  0.507 +\\- 0.029"
      ]
     },
     "metadata": {},
     "output_type": "display_data"
    },
    {
     "data": {
      "image/png": "[encoded data removed]",
      "text/plain": [
       "<matplotlib.figure.Figure at 0x6687510>"
      ]
     },
     "metadata": {},
     "output_type": "display_data"
    },
    {
     "data": {
      "text/markdown": [
       "---"
      ],
      "text/plain": [
       "<IPython.core.display.Markdown object>"
      ]
     },
     "metadata": {},
     "output_type": "display_data"
    },
    {
     "data": {
      "text/markdown": [
       "# Health   "
      ],
      "text/plain": [
       "<IPython.core.display.Markdown object>"
      ]
     },
     "metadata": {},
     "output_type": "display_data"
    },
    {
     "data": {
      "text/markdown": [
       "Total Number of Positive Tweets in Each Split = 79,413 +\\- 150"
      ],
      "text/plain": [
       "<IPython.core.display.Markdown object>"
      ]
     },
     "metadata": {},
     "output_type": "display_data"
    },
    {
     "data": {
      "text/html": [
       "<div>\n",
       "<table border=\"1\" class=\"dataframe\">\n",
       "  <thead>\n",
       "    <tr style=\"text-align: right;\">\n",
       "      <th></th>\n",
       "      <th>Method</th>\n",
       "      <th># Positives Retrieved</th>\n",
       "      <th>Recall</th>\n",
       "    </tr>\n",
       "  </thead>\n",
       "  <tbody>\n",
       "    <tr>\n",
       "      <th>0</th>\n",
       "      <td>Firehose</td>\n",
       "      <td>727 +\\- 51</td>\n",
       "      <td>0.009 +\\- 0.001</td>\n",
       "    </tr>\n",
       "    <tr>\n",
       "      <th>1</th>\n",
       "      <td>TopK</td>\n",
       "      <td>7,089 +\\- 55</td>\n",
       "      <td>0.089 +\\- 0.001</td>\n",
       "    </tr>\n",
       "    <tr>\n",
       "      <th>2</th>\n",
       "      <td>CILP</td>\n",
       "      <td>4,460 +\\- 361</td>\n",
       "      <td>0.056 +\\- 0.005</td>\n",
       "    </tr>\n",
       "    <tr>\n",
       "      <th>3</th>\n",
       "      <td>WILP</td>\n",
       "      <td>4,728 +\\- 645</td>\n",
       "      <td>0.060 +\\- 0.008</td>\n",
       "    </tr>\n",
       "    <tr>\n",
       "      <th>4</th>\n",
       "      <td>CAILP</td>\n",
       "      <td>11,831 +\\- 83</td>\n",
       "      <td>0.149 +\\- 0.001</td>\n",
       "    </tr>\n",
       "  </tbody>\n",
       "</table>\n",
       "</div>"
      ],
      "text/plain": [
       "     Method # Positives Retrieved           Recall\n",
       "0  Firehose            727 +\\- 51  0.009 +\\- 0.001\n",
       "1      TopK          7,089 +\\- 55  0.089 +\\- 0.001\n",
       "2      CILP         4,460 +\\- 361  0.056 +\\- 0.005\n",
       "3      WILP         4,728 +\\- 645  0.060 +\\- 0.008\n",
       "4     CAILP         11,831 +\\- 83  0.149 +\\- 0.001"
      ]
     },
     "metadata": {},
     "output_type": "display_data"
    },
    {
     "data": {
      "image/png": "[encoded data removed]",
      "text/plain": [
       "<matplotlib.figure.Figure at 0x5ff0e50>"
      ]
     },
     "metadata": {},
     "output_type": "display_data"
    },
    {
     "data": {
      "text/markdown": [
       "---"
      ],
      "text/plain": [
       "<IPython.core.display.Markdown object>"
      ]
     },
     "metadata": {},
     "output_type": "display_data"
    },
    {
     "data": {
      "text/markdown": [
       "# LGBT   "
      ],
      "text/plain": [
       "<IPython.core.display.Markdown object>"
      ]
     },
     "metadata": {},
     "output_type": "display_data"
    },
    {
     "data": {
      "text/markdown": [
       "Total Number of Positive Tweets in Each Split = 124,889 +\\- 323"
      ],
      "text/plain": [
       "<IPython.core.display.Markdown object>"
      ]
     },
     "metadata": {},
     "output_type": "display_data"
    },
    {
     "data": {
      "text/html": [
       "<div>\n",
       "<table border=\"1\" class=\"dataframe\">\n",
       "  <thead>\n",
       "    <tr style=\"text-align: right;\">\n",
       "      <th></th>\n",
       "      <th>Method</th>\n",
       "      <th># Positives Retrieved</th>\n",
       "      <th>Recall</th>\n",
       "    </tr>\n",
       "  </thead>\n",
       "  <tbody>\n",
       "    <tr>\n",
       "      <th>0</th>\n",
       "      <td>Firehose</td>\n",
       "      <td>917 +\\- 19</td>\n",
       "      <td>0.007 +\\- 0.000</td>\n",
       "    </tr>\n",
       "    <tr>\n",
       "      <th>1</th>\n",
       "      <td>TopK</td>\n",
       "      <td>6,685 +\\- 52</td>\n",
       "      <td>0.054 +\\- 0.000</td>\n",
       "    </tr>\n",
       "    <tr>\n",
       "      <th>2</th>\n",
       "      <td>CILP</td>\n",
       "      <td>2,692 +\\- 66</td>\n",
       "      <td>0.022 +\\- 0.000</td>\n",
       "    </tr>\n",
       "    <tr>\n",
       "      <th>3</th>\n",
       "      <td>WILP</td>\n",
       "      <td>3,114 +\\- 146</td>\n",
       "      <td>0.025 +\\- 0.001</td>\n",
       "    </tr>\n",
       "    <tr>\n",
       "      <th>4</th>\n",
       "      <td>CAILP</td>\n",
       "      <td>9,784 +\\- 1,456</td>\n",
       "      <td>0.078 +\\- 0.012</td>\n",
       "    </tr>\n",
       "  </tbody>\n",
       "</table>\n",
       "</div>"
      ],
      "text/plain": [
       "     Method # Positives Retrieved           Recall\n",
       "0  Firehose            917 +\\- 19  0.007 +\\- 0.000\n",
       "1      TopK          6,685 +\\- 52  0.054 +\\- 0.000\n",
       "2      CILP          2,692 +\\- 66  0.022 +\\- 0.000\n",
       "3      WILP         3,114 +\\- 146  0.025 +\\- 0.001\n",
       "4     CAILP       9,784 +\\- 1,456  0.078 +\\- 0.012"
      ]
     },
     "metadata": {},
     "output_type": "display_data"
    },
    {
     "data": {
      "image/png": "[encoded data removed]",
      "text/plain": [
       "<matplotlib.figure.Figure at 0x5ffa550>"
      ]
     },
     "metadata": {},
     "output_type": "display_data"
    },
    {
     "data": {
      "text/markdown": [
       "---"
      ],
      "text/plain": [
       "<IPython.core.display.Markdown object>"
      ]
     },
     "metadata": {},
     "output_type": "display_data"
    }
   ],
   "source": [
    "topics = tq.utils.get_topics()\n",
    "for topic in topics:\n",
    "    display_ratk_results(topic)"
   ]
  }
 ],
 "metadata": {
  "kernelspec": {
   "display_name": "Python 2",
   "language": "python",
   "name": "python2"
  },
  "language_info": {
   "codemirror_mode": {
    "name": "ipython",
    "version": 2
   },
   "file_extension": ".py",
   "mimetype": "text/x-python",
   "name": "python",
   "nbconvert_exporter": "python",
   "pygments_lexer": "ipython2",
   "version": "2.7.5"
  }
 },
 "nbformat": 4,
 "nbformat_minor": 1
}
