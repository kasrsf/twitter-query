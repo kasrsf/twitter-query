{
 "cells": [
  {
   "cell_type": "code",
   "execution_count": 62,
   "metadata": {
    "collapsed": true
   },
   "outputs": [],
   "source": [
    "import pandas as pd\n",
    "import numpy as np \n",
    "\n",
    "from sklearn.pipeline import FeatureUnion\n",
    "from sklearn.pipeline import Pipeline\n",
    "from sklearn.feature_extraction.text import TfidfVectorizer, CountVectorizer\n",
    "from sklearn.linear_model import LogisticRegression, LogisticRegressionCV\n",
    "\n",
    "from CustomTransformers import *\n",
    "from Evaluation import *"
   ]
  },
  {
   "cell_type": "markdown",
   "metadata": {},
   "source": [
    "## 1. Getting the Data\n",
    "\n",
    "We can either read data from json files previously downloaded from spark machine or get data locally from spark:\n",
    "\n",
    "### 1.1 Reading From JSON"
   ]
  },
  {
   "cell_type": "code",
   "execution_count": 2,
   "metadata": {
    "collapsed": false
   },
   "outputs": [],
   "source": [
    "# read data stored locally \n",
    "#train = pd.read_json(\"../data/training.json\")\n",
    "#test = pd.read_json(\"../data/test.json\")"
   ]
  },
  {
   "cell_type": "markdown",
   "metadata": {},
   "source": [
    "### 1.2 Getting and Filtering Data With Spark"
   ]
  },
  {
   "cell_type": "code",
   "execution_count": 3,
   "metadata": {
    "collapsed": false
   },
   "outputs": [],
   "source": [
    "from pyspark.ml.feature import Tokenizer\n",
    "from pyspark.sql.functions import explode, lit, col\n",
    "from pyspark.sql import functions as F\n",
    "\n",
    "class API:\n",
    "    def __init__(self, directory, frac=1, seed=123):\n",
    "        if frac < 1:\n",
    "            self.data = spark.read.parquet(directory).sample(False, frac, seed)\n",
    "        else:\n",
    "            self.data = spark.read.parquet(directory)\n",
    "          \n",
    "    def get_raw_data(self):\n",
    "         return self.data\n",
    "\n",
    "    def get_filtered_data(self, terms=[], hashtags=None, users=None, locs=None, mentions=None):   \n",
    "        terms_regex = '|'.join(terms)\n",
    "        filtered_data = (labled_data.filter(labled_data['term'].rlike(terms_regex)))\n",
    "\n",
    "        if hashtags != None:\n",
    "            hashtags_regex = '|'.join(hashtags)\n",
    "            filtered_data = filtered_data.union(labled_data.filter(labled_data['hashtag'].rlike(hashtags_regex)))\n",
    "\n",
    "        if users != None:\n",
    "            users_regex = '|'.join(users)\n",
    "            filtered_data = filtered_data.union(labled_data.filter(labled_data['from_user'].rlike(users_regex)))\n",
    "\n",
    "        if locs != None:\n",
    "            locs_regex = '|'.join(locs)\n",
    "            filtered_data = filtered_data.union(labled_data.filter(labled_data['location'].rlike(locs_regex)))\n",
    "\n",
    "        if mentions != None:\n",
    "            mentions_regex = '|'.join(mentions)\n",
    "            filtered_data = filtered_data.union(labled_data.filter(labled_data['mention'].rlike(mentions_regex)))\n",
    "\n",
    "        return filtered_data.dropDuplicates().cache()"
   ]
  },
  {
   "cell_type": "code",
   "execution_count": 4,
   "metadata": {
    "collapsed": true
   },
   "outputs": [],
   "source": [
    "from pyspark.sql.functions import explode, lit, col\n",
    "\n",
    "from hashtag_dict import topic_dict\n",
    "\n",
    "class DataPreprocessor():\n",
    "    def __init__(self, data):\n",
    "        self.data = data\n",
    "        self.labled_data = None\n",
    "\n",
    "        tokenizer = Tokenizer(inputCol=\"hashtag\", outputCol=\"each_hashtag\")\n",
    "        hashtags_df = tokenizer.transform(self.data)\n",
    "\n",
    "        hashtag = hashtags_df.select(\"tweet_id\",\"create_time\",\"each_hashtag\")\n",
    "        self.hash_exploded = hashtag.withColumn('each_hashtag', explode('each_hashtag'))\n",
    "    \n",
    "    def get_labled_data(self, topic):\n",
    "        if self.labled_data == None:\n",
    "            topic_lables = topic_dict[topic]\n",
    "\n",
    "            topical_ids = self.hash_exploded.select(self.hash_exploded.tweet_id)\\\n",
    "                                                    .where(self.hash_exploded.each_hashtag\\\n",
    "                                                            .isin(topic_lables))\\\n",
    "                                                    .distinct().cache()\n",
    "\n",
    "            labled_topical = topical_ids.withColumn(\"topical\", lit(1))\n",
    "            self.labled_data = self.data.join(labled_topical, self.data.tweet_id == labled_topical.tweet_id, \"left\")\\\n",
    "                                                      .select(self.data.create_time,\\\n",
    "                                                             self.data.from_id,\\\n",
    "                                                             self.data.from_user,\\\n",
    "                                                             self.data.hashtag,\\\n",
    "                                                             self.data.location,\\\n",
    "                                                             self.data.mention,\\\n",
    "                                                             self.data.tweet_id,\\\n",
    "                                                             self.data.term,\\\n",
    "                                                              F.when(labled_topical.topical == 1, 1.0)\\\n",
    "                                                                .otherwise(0.0).alias(\"label\")).distinct().cache()\n",
    "        return self.labled_data\n",
    "    \n",
    "    def get_num_of_positvies(self):\n",
    "        if self.labled_data == None:\n",
    "            return 0\n",
    "        \n",
    "        return self.labled_data.where(col(\"label\") == 1.0).count()\n",
    "    \n",
    "    def get_data_size(self):\n",
    "        if self.labled_data == None:\n",
    "            return 0\n",
    "        \n",
    "        return self.labled_data.count()\n",
    "        \n",
    "    def temporal_split(self, topic, balance_data=True, seed=0):\n",
    "        topic_lables = topic_dict[topic]\n",
    "        labled_data = self.get_labled_data(topic)\n",
    "        tweet_labels = labled_data.select(\"tweet_id\", \"label\")\n",
    "        \n",
    "        df_birthday = self.hash_exploded.join(tweet_labels,\\\n",
    "                                 self.hash_exploded.tweet_id == tweet_labels.tweet_id,\\\n",
    "                                 \"inner\").select(self.hash_exploded.create_time,\\\n",
    "                                                 self.hash_exploded.each_hashtag,\\\n",
    "                                                 self.hash_exploded.tweet_id)\n",
    "        \n",
    "        ## Find out the \"birthday\", or the earliest appearing time of each hashtag. \n",
    "        ## (add an extra column of 1 to mark as topical, will be used in a join later)\n",
    "        ordered_hashtag_set = df_birthday.\\\n",
    "                              groupby(\"each_hashtag\").\\\n",
    "                              agg({\"create_time\": \"min\"}).\\\n",
    "                              orderBy('min(create_time)', ascending=True).\\\n",
    "                              withColumnRenamed(\"min(create_time)\", \"birthday\").\\\n",
    "                              where(df_birthday.each_hashtag.isin(topic_lables)).cache()\n",
    "                            \n",
    "        time_span = ordered_hashtag_set.count()\n",
    "\n",
    "        train_test_split_time = np.floor(np.multiply(time_span, 0.85)).astype(int)\n",
    "\n",
    "        # Converting to Pandas for random row access.\n",
    "        pd_ordered_hashtag_set = ordered_hashtag_set.toPandas()\n",
    "\n",
    "        # locate the timestamp of the cutoff point. Will be used later to split Dataframe.\n",
    "        train_test_time = pd_ordered_hashtag_set.iloc[train_test_split_time]['birthday']\n",
    "    \n",
    "        training_set = labled_data.where(col(\"create_time\") <= train_test_time)\n",
    "        test_set = labled_data.where(col(\"create_time\") > train_test_time)\n",
    "        \n",
    "        if balance_data == True:\n",
    "            training_set = training_set.sampleBy(\"label\", fractions={0.0: 0.001, 1.0: 1}, seed=seed) \n",
    "        \n",
    "        return training_set, test_set"
   ]
  },
  {
   "cell_type": "code",
   "execution_count": 5,
   "metadata": {
    "collapsed": true
   },
   "outputs": [],
   "source": [
    "directory = \"/mnt/66e695cd-1a0c-4e3b-9a50-55e01b788529/Training_data/Staging_final/\"\n",
    "api = API(directory, frac=0.01, seed=123)\n",
    "raw_data = api.get_raw_data()"
   ]
  },
  {
   "cell_type": "markdown",
   "metadata": {},
   "source": [
    "#### 1.2.1 Labeling"
   ]
  },
  {
   "cell_type": "code",
   "execution_count": 6,
   "metadata": {
    "collapsed": false
   },
   "outputs": [],
   "source": [
    "dp = DataPreprocessor(raw_data)\n",
    "train, test = dp.temporal_split(\"Natr_Disaster\")"
   ]
  },
  {
   "cell_type": "code",
   "execution_count": 7,
   "metadata": {
    "collapsed": true
   },
   "outputs": [],
   "source": [
    "train = train.toPandas()\n",
    "test = test.toPandas()"
   ]
  },
  {
   "cell_type": "code",
   "execution_count": 8,
   "metadata": {
    "collapsed": false
   },
   "outputs": [],
   "source": [
    "train_features = train.drop('label', axis=1)\n",
    "train_target = train['label']\n",
    "\n",
    "test_features = test.drop('label', axis=1)\n",
    "test_target = test['label']"
   ]
  },
  {
   "cell_type": "markdown",
   "metadata": {
    "collapsed": true
   },
   "source": [
    "## 2. Train the initial classifier\n",
    "\n",
    "Set up a pipeline for training a classifier based on the training data. Vectorize each of the five main feature columns (Term, Hashtag, From_id, Location, Mention) and create a single feature vector with FeatureUnion.\n",
    "The classifier is a Logistic Regression with Cross validation which currently is set up under the default configuration.  \n",
    "We will use the parameters of this classifier for selecting features in the next stage."
   ]
  },
  {
   "cell_type": "code",
   "execution_count": 9,
   "metadata": {
    "collapsed": false
   },
   "outputs": [],
   "source": [
    "pipeline = Pipeline([\n",
    "    ('features', FeatureUnion(\n",
    "            transformer_list=[\n",
    "                ('term', Pipeline([\n",
    "                    ('selector', ItemSelector(key='term')),\n",
    "                    ('tfidf', TfidfVectorizer(stop_words='english')),\n",
    "                ])),\n",
    "                \n",
    "                ('hashtag', Pipeline([\n",
    "                    ('selector', ItemSelector(key='hashtag')),\n",
    "                    ('count', CountVectorizer()),\n",
    "                ])),\n",
    "                \n",
    "                ('user', Pipeline([\n",
    "                    ('selector', ItemSelector(key='from_user')),\n",
    "                    ('count', CountVectorizer()),\n",
    "                ])),\n",
    "                \n",
    "                ('location', Pipeline([\n",
    "                    ('selector', ItemSelector(key='location')),\n",
    "                    ('count', CountVectorizer()),\n",
    "                ])),\n",
    "                \n",
    "                ('mention', Pipeline([\n",
    "                    ('selector', ItemSelector(key='mention')),\n",
    "                    ('count', CountVectorizer()),\n",
    "                ]))\n",
    "               \n",
    "            ])),\n",
    "    \n",
    "    ('classifier', LogisticRegressionCV())  \n",
    "])"
   ]
  },
  {
   "cell_type": "code",
   "execution_count": 10,
   "metadata": {
    "collapsed": false
   },
   "outputs": [],
   "source": [
    "pipeline.fit(train_features, train_target)\n",
    "\n",
    "predictions = pipeline.predict_proba(test_features)[:, 1]"
   ]
  },
  {
   "cell_type": "code",
   "execution_count": 11,
   "metadata": {
    "collapsed": false
   },
   "outputs": [
    {
     "name": "stdout",
     "output_type": "stream",
     "text": [
      "Precision@100 = 0.988505747126 \n",
      "Recall@100 = 0.934782608696\n",
      "AveP = 0.727947432115\n"
     ]
    }
   ],
   "source": [
    "print_evaluation_summary(test_target, predictions, 100)"
   ]
  },
  {
   "cell_type": "code",
   "execution_count": 12,
   "metadata": {
    "collapsed": true
   },
   "outputs": [],
   "source": [
    "pipeline2 = Pipeline([\n",
    "    ('features', FeatureUnion(\n",
    "            transformer_list=[\n",
    "                ('term', Pipeline([\n",
    "                    ('selector', ItemSelector(key='term')),\n",
    "                    ('tfidf', TfidfVectorizer(stop_words='english')),\n",
    "                ])),\n",
    "                \n",
    "                ('hashtag', Pipeline([\n",
    "                    ('selector', ItemSelector(key='hashtag')),\n",
    "                    ('count', HashtagCountVectorizer()),\n",
    "                ])),\n",
    "            ])),\n",
    "    \n",
    "    ('classifier', LogisticRegressionCV())    \n",
    "])"
   ]
  },
  {
   "cell_type": "code",
   "execution_count": 13,
   "metadata": {
    "collapsed": true
   },
   "outputs": [],
   "source": [
    "pipeline2.fit(train_features, train_target)\n",
    "\n",
    "predictions2 = pipeline2.predict_proba(test_features)[:, 1]"
   ]
  },
  {
   "cell_type": "code",
   "execution_count": 14,
   "metadata": {
    "collapsed": false
   },
   "outputs": [
    {
     "name": "stdout",
     "output_type": "stream",
     "text": [
      "Precision@100 = 1.0 \n",
      "Recall@100 = 1.0\n",
      "AveP = 0.889932393727\n"
     ]
    }
   ],
   "source": [
    "print_evaluation_summary(test_target, predictions2, 100)"
   ]
  },
  {
   "cell_type": "code",
   "execution_count": 15,
   "metadata": {
    "collapsed": false
   },
   "outputs": [
    {
     "data": {
      "image/png": "[encoded data removed]",
      "text/plain": [
       "<matplotlib.figure.Figure at 0x2a5d9510>"
      ]
     },
     "metadata": {},
     "output_type": "display_data"
    }
   ],
   "source": [
    "from sklearn.metrics import precision_recall_curve\n",
    "import matplotlib.pyplot as plt\n",
    "\n",
    "precision, recall, _ = precision_recall_curve(test_target, predictions)\n",
    "precision2, recall2, _ = precision_recall_curve(test_target, predictions2)\n",
    "\n",
    "pr1 = plt.plot(recall, precision, color='black', label=\"all features\")\n",
    "pr2 = plt.plot(recall2, precision2, color='g', label=\"terms+hashtag\")\n",
    "\n",
    "plt.xlabel('Recall')\n",
    "plt.ylabel('Precision')\n",
    "plt.legend()\n",
    "plt.ylim([0.0, 1.05])\n",
    "plt.xlim([0.0, 1.0])\n",
    "plt.title('Precision-Recall')\n",
    "plt.show()"
   ]
  },
  {
   "cell_type": "markdown",
   "metadata": {
    "collapsed": true
   },
   "source": [
    "(Unrelated to current problem: using terms + hashtags yields better results. Due to no features selection/small data size?)"
   ]
  },
  {
   "cell_type": "markdown",
   "metadata": {},
   "source": [
    "## 3. Test TopK feature selection performance"
   ]
  },
  {
   "cell_type": "code",
   "execution_count": 16,
   "metadata": {
    "collapsed": false
   },
   "outputs": [],
   "source": [
    "from FeatureExtraction import *\n",
    "\n",
    "class ClassifierAnalyzer():\n",
    "    def __init__(self, pipeline):\n",
    "        self.pipeline = pipeline\n",
    "        \n",
    "    def get_top_features(self, k=[20, 20, 20, 20, 20]):\n",
    "        return top_features_by_kind(self.pipeline, k)\n",
    "    \n",
    "    def print_top_features(self, k=[20, 20, 20, 20, 20]):\n",
    "        top_terms, top_hashtags, top_users, top_locs, top_mentions = self.get_top_features(k)\n",
    "        \n",
    "        if k[0] > 0:\n",
    "            print(\"Top Terms: \" + str(top_terms).strip('[]') + \"\\n\")\n",
    "        if k[1] > 0:\n",
    "            print(\"Top Hashtags: \" + str(top_hashtags).strip('[]') + \"\\n\")\n",
    "        if k[2] > 0:\n",
    "            print(\"Top Users: \" + str(top_users).strip('[]') + \"\\n\")            \n",
    "        if k[3] > 0:\n",
    "            print(\"Top Locations: \" + str(top_locs).strip('[]') + \"\\n\")            \n",
    "        if k[4] > 0:\n",
    "            print(\"Top Mentions: \" + str(top_mentions).strip('[]') + \"\\n\")        "
   ]
  },
  {
   "cell_type": "code",
   "execution_count": 17,
   "metadata": {
    "collapsed": false
   },
   "outputs": [],
   "source": [
    "labled_data = dp.get_labled_data(\"Natr_Disaster\")\n",
    "analyzer = ClassifierAnalyzer(pipeline)"
   ]
  },
  {
   "cell_type": "code",
   "execution_count": 18,
   "metadata": {
    "collapsed": false
   },
   "outputs": [
    {
     "name": "stdout",
     "output_type": "stream",
     "text": [
      "Top Terms: u'hurricane', u'yrs', u'help', u'philippines', u'storm', u'eso', u'typhoon', u'safe', u'water', u'victims', u'weather', u'coast', u'sure', u'risk', u'place', u'hit', u'damage', u'took', u'continue', u'aisles'\n",
      "\n",
      "Top Hashtags: u'prayforthephilippines', u'earthquake', u'storm', u'tornado', u'ukstorm', u'haiyan', u'flood', u'sandy', u'hurricane', u'drought', u'arthur', u'hurricanes', u'eqnz', u'quake', u'typhoon', u'serbiafloods', u'napaquake', u'earthquakeph', u'prayforchile', u'phailin'\n",
      "\n",
      "Top Users: u'rlawler3', u'shiftlessstevie', u'thefoxnation01', u'asifktkaziz', u'strangeaxle', u'davidgumpher', u'earthquaketime1', u'jilllaner', u'wfhcbandon', u'lawbharath', u'jrcommdoc', u'905shinefm', u'nice_1005', u'what_tha_what', u'suffolkdan86', u'marnielevy', u'ilovehim_o21', u'psychkiddo', u'butterflyblues4', u'millermarias'\n",
      "\n",
      "Top Locations: u'loc_los_angeles_ca', u'loc_schuylkill_county_pa', u'loc_abu_dhabi_uae', u'loc_bandon_co_cork', u'loc_princeton', u'loc_red_deer_ab', u'loc_chennai', u'loc_13', u'loc_central_virginia', u'loc_suffolk', u'loc_seoulkorea', u'loc_sta_mesa_manila_philippines', u'loc_paradise', u'loc_las_vegas_nevada', u'loc_nelson', u'loc_brighton', u'loc_west_virginia', u'loc_wellington_new_zealand', u'loc_los_angeles_california', u'loc_new_york_city'\n",
      "\n",
      "Top Mentions: u'clutchreed_25', u'decappeal', u'bethblog', u'indiekings', u'jonleebrody', u'nobts_live', u'johnminihan', u'sumansharma', u'fcc', u'gemmaduffy13', u'craigatfema', u'ypeer_phl', u'microbesinfect', u'sofiaorden', u'abscbnnews', u'davidsilveroak', u'tdmrussell', u'astro_reid', u'fcbayern', u'unisdr'\n",
      "\n"
     ]
    }
   ],
   "source": [
    "analyzer.print_top_features()"
   ]
  },
  {
   "cell_type": "code",
   "execution_count": 121,
   "metadata": {
    "collapsed": false
   },
   "outputs": [],
   "source": [
    "class TestFramework:\n",
    "    def __init__(self, api, analyzer, configurations=[]):\n",
    "        self.api = api\n",
    "        self.analyzer = analyzer\n",
    "        self.configurations = configurations\n",
    "\n",
    "    def get_data(self, k, topic):\n",
    "        top_terms, top_hashtags, top_users, top_locs, top_mentions = self.analyzer.get_top_features(k)\n",
    "\n",
    "        data = self.api.get_filtered_data(top_terms, top_hashtags, top_users, top_locs, top_mentions)\n",
    "        dp = DataPreprocessor(data)\n",
    "        filtered_data = dp.get_labled_data(topic)\n",
    "        data_size = dp.get_data_size()\n",
    "        data_positive_count = dp.get_num_of_positvies()\n",
    "        \n",
    "        train, test = dp.temporal_split(topic)\n",
    "        \n",
    "        return data_positive_count, data_size, train.toPandas(), test.toPandas()\n",
    "        \n",
    "    def run_configs(self, topic=\"Natr_Disaster\"):\n",
    "        pipelines = []\n",
    "        positive_counts = []\n",
    "        total_counts = []\n",
    "       \n",
    "       \n",
    "        \n",
    "        for config in self.configurations:\n",
    "            pipeline = Pipeline([\n",
    "            ('features', FeatureUnion(\n",
    "                    transformer_list=[\n",
    "                        ('term', Pipeline([\n",
    "                            ('selector', ItemSelector(key='term')),\n",
    "                            ('tfidf', TfidfVectorizer(stop_words='english')),\n",
    "                        ])),\n",
    "\n",
    "                        ('hashtag', Pipeline([\n",
    "                            ('selector', ItemSelector(key='hashtag')),\n",
    "                            ('count', CountVectorizer()),\n",
    "                        ])),\n",
    "\n",
    "                        ('user', Pipeline([\n",
    "                            ('selector', ItemSelector(key='from_user')),\n",
    "                            ('count', CountVectorizer()),\n",
    "                        ])),\n",
    "\n",
    "                        ('location', Pipeline([\n",
    "                            ('selector', ItemSelector(key='location')),\n",
    "                            ('count', CountVectorizer()),\n",
    "                        ])),\n",
    "\n",
    "                        ('mention', Pipeline([\n",
    "                            ('selector', ItemSelector(key='mention')),\n",
    "                            ('count', CountVectorizer()),\n",
    "                        ]))\n",
    "\n",
    "                    ])),\n",
    "\n",
    "            ('classifier', LogisticRegressionCV())  \n",
    "        ])   \n",
    "            pos, total, train, test = self.get_data(config, topic)\n",
    "            positive_counts.append(pos)     \n",
    "            total_counts.append(total)\n",
    "            \n",
    "            train_features = train.drop('label', axis=1)\n",
    "            train_target = train['label']\n",
    "\n",
    "            test_features = test.drop('label', axis=1)\n",
    "            test_target = test['label']\n",
    "            \n",
    "            pipeline.fit(train_features, train_target)\n",
    "            pipelines.append(pipeline)\n",
    "            \n",
    "        return positive_counts, total_counts, pipelines"
   ]
  },
  {
   "cell_type": "code",
   "execution_count": 128,
   "metadata": {
    "collapsed": false
   },
   "outputs": [],
   "source": [
    "configs = [[20, 20, 20, 20, 20], [50, 50, 50, 50, 50], [100, 100, 100, 100, 100], [200, 200, 200, 200, 200]]\n",
    "tf = TestFramework(api, analyzer, configs)"
   ]
  },
  {
   "cell_type": "code",
   "execution_count": 129,
   "metadata": {
    "collapsed": false
   },
   "outputs": [],
   "source": [
    "positives, totals, pipelines = tf.run_configs()"
   ]
  },
  {
   "cell_type": "markdown",
   "metadata": {},
   "source": [
    "### 3.1 Baseline Evaluation"
   ]
  },
  {
   "cell_type": "code",
   "execution_count": 105,
   "metadata": {
    "collapsed": false
   },
   "outputs": [
    {
     "data": {
      "image/png": "[encoded data removed]",
      "text/plain": [
       "<matplotlib.figure.Figure at 0x455e13d0>"
      ]
     },
     "metadata": {},
     "output_type": "display_data"
    }
   ],
   "source": [
    "positives_scaled = [p * 100 for p in positives]\n",
    "pos_ratio = []\n",
    "for i in range(0, len(positives_scaled)):\n",
    "    pos_ratio.append(float(positives_scaled[i]) / totals[i])\n",
    "\n",
    "N = len(positives)\n",
    "\n",
    "ind = np.arange(N)  # the x locations for the groups\n",
    "width = 0.35       # the width of the bars\n",
    "\n",
    "plt.subplot(2, 1, 1)\n",
    "plt.bar(ind, positives_scaled, width, color='r')\n",
    "plt.bar(ind + width, totals, width, color='y')\n",
    "\n",
    "# add some text for labels, title and axes ticks\n",
    "plt.ylabel('Data Count')\n",
    "plt.xlabel('K')\n",
    "plt.title('Filtered data label statistics')\n",
    "plt.xticks(np.arange(N), ('20', '50', '100', '200'))\n",
    "\n",
    "plt.subplot(2, 1, 2)\n",
    "plt.plot(pos_ratio)\n",
    "\n",
    "# add some text for labels, title and axes ticks\n",
    "plt.ylabel('#Pos*100/#Tot')\n",
    "plt.xlabel('K')\n",
    "plt.xticks(np.arange(N), ('20', '50', '100', '200'))\n",
    "\n",
    "plt.show()"
   ]
  },
  {
   "cell_type": "code",
   "execution_count": 106,
   "metadata": {
    "collapsed": false
   },
   "outputs": [
    {
     "data": {
      "image/png": "[encoded data removed]",
      "text/plain": [
       "<matplotlib.figure.Figure at 0x5fe52a10>"
      ]
     },
     "metadata": {},
     "output_type": "display_data"
    }
   ],
   "source": [
    "total_pos_count = dp.get_num_of_positvies()\n",
    "pos_recall = [float(p) / total_pos_count for p in positives]\n",
    "\n",
    "fig, ax = plt.subplots()\n",
    "ax.plot(pos_recall)\n",
    "# add some text for labels, title and axes ticks\n",
    "ax.set_ylabel('Topical Tweets Recalled')\n",
    "ax.set_xlabel('K')\n",
    "ax.set_title('Filtered data label statistics')\n",
    "ax.set_xticks(ind + width / 2)\n",
    "ax.set_xticklabels(('20', '50', '100', '200'))\n",
    "\n",
    "plt.show()"
   ]
  },
  {
   "cell_type": "code",
   "execution_count": 130,
   "metadata": {
    "collapsed": false
   },
   "outputs": [],
   "source": [
    "aveps = []\n",
    "prec_recall = []\n",
    "for p in pipelines:\n",
    "    predictions = p.predict_proba(test_features)[:, 1]\n",
    "    aveps.append(average_precision_score(test_target, predictions))\n",
    "    \n",
    "    precision, recall, _ = precision_recall_curve(test_target, predictions)\n",
    "    prec_recall.append([precision, recall])"
   ]
  },
  {
   "cell_type": "code",
   "execution_count": 131,
   "metadata": {
    "collapsed": false
   },
   "outputs": [
    {
     "data": {
      "image/png": "[encoded data removed]",
      "text/plain": [
       "<matplotlib.figure.Figure at 0xce590450>"
      ]
     },
     "metadata": {},
     "output_type": "display_data"
    }
   ],
   "source": [
    "plt.subplot()\n",
    "plt.plot(aveps)\n",
    "# add some text for labels, title and axes ticks\n",
    "plt.ylabel('AveP')\n",
    "plt.xlabel('K')\n",
    "plt.title('Average Precision By Number of Filtered Features')\n",
    "plt.xticks(np.arange(N), ('20', '50', '100', '200'))\n",
    "plt.show()"
   ]
  },
  {
   "cell_type": "code",
   "execution_count": 134,
   "metadata": {
    "collapsed": false
   },
   "outputs": [
    {
     "data": {
      "image/png": "[encoded data removed]",
      "text/plain": [
       "<matplotlib.figure.Figure at 0x8ad5ae50>"
      ]
     },
     "metadata": {},
     "output_type": "display_data"
    }
   ],
   "source": [
    "from sklearn.metrics import precision_recall_curve\n",
    "import matplotlib.pyplot as plt\n",
    "\n",
    "colors = ['r', 'b', 'g', 'k', 'm']\n",
    "k = [20, 50, 100, 200]\n",
    "for i in range(0, len(prec_recall)):\n",
    "    plt.plot(prec_recall[i][0], prec_recall[i][1], color=colors[i], label=k[i])\n",
    "\n",
    "plt.xlabel('Recall')\n",
    "plt.ylabel('Precision')\n",
    "plt.legend()\n",
    "plt.ylim([0.0, 1.05])\n",
    "plt.xlim([0.0, 1.0])\n",
    "plt.title('Precision-Recall By K')\n",
    "plt.show()"
   ]
  }
 ],
 "metadata": {
  "kernelspec": {
   "display_name": "Python 2",
   "language": "python",
   "name": "python2"
  },
  "language_info": {
   "codemirror_mode": {
    "name": "ipython",
    "version": 2
   },
   "file_extension": ".py",
   "mimetype": "text/x-python",
   "name": "python",
   "nbconvert_exporter": "python",
   "pygments_lexer": "ipython2",
   "version": "2.7.5"
  }
 },
 "nbformat": 4,
 "nbformat_minor": 2
}
