{
 "cells": [
  {
   "cell_type": "code",
   "execution_count": 93,
   "metadata": {
    "collapsed": false
   },
   "outputs": [],
   "source": [
    "import pandas as pd\n",
    "import numpy as np \n",
    "import re\n",
    "\n",
    "from sklearn.pipeline import FeatureUnion\n",
    "from sklearn.pipeline import Pipeline\n",
    "from sklearn.feature_extraction.text import TfidfVectorizer#, CountVectorizer\n",
    "from sklearn.linear_model import LogisticRegression, LogisticRegressionCV\n",
    "from sklearn.metrics import precision_recall_curve\n",
    "\n",
    "from pyspark.ml.feature import HashingTF, Tokenizer, IDF, StopWordsRemover, CountVectorizer, VectorAssembler\n",
    "from pyspark.sql import functions as F\n",
    "from pyspark.sql.functions import explode, lit, col, when\n",
    "\n",
    "import matplotlib.pyplot as plt\n",
    "\n",
    "from hashtag_dict import topic_dict\n",
    "\n",
    "from CustomTransformers import *\n",
    "from Evaluation import *\n",
    "from ClassifierAnalyzer import *\n",
    "from FeatureExtraction import *"
   ]
  },
  {
   "cell_type": "markdown",
   "metadata": {},
   "source": [
    "# Review Previous Work"
   ]
  },
  {
   "cell_type": "markdown",
   "metadata": {},
   "source": [
    "### Class Definitions\n",
    "\n",
    "Changes to previous classes:\n",
    "\n",
    "* add validation as described in the paper. add a split in data to get validation data (75% - 85% splits following previous implementation)\n",
    "* remove tweets containing train hashtags from validation and test data\n",
    "* remove tweets without hashtags from (test?) data\n",
    "* downsample based on pos/neg sample ratio to achieve 50/50 ratio(previously hardcoded 0.001)"
   ]
  },
  {
   "cell_type": "code",
   "execution_count": 4,
   "metadata": {
    "collapsed": false
   },
   "outputs": [],
   "source": [
    "def filter_data(data, terms=[], hashtags=None, users=None, locs=None, mentions=None):\n",
    "        terms_filter = [re.sub(r'(.*)', r'\\\\b\\1\\\\b', term) for term in terms]\n",
    "        terms_regex = '|'.join(terms_filter)\n",
    "        filtered_data = data.loc[data['term'].str.contains(terms_regex)]\n",
    "        \n",
    "        if hashtags != None:\n",
    "            hashtags_filter = [re.sub(r'(.*)', r'\\\\b\\1\\\\b', hashtag) for hashtag in hashtags]\n",
    "            hashtags_regex = '|'.join(hashtags_filter)\n",
    "            hashtags_filtered = data.loc[data['hashtag'].str.contains(hashtags_regex)]\n",
    "            filtered_data = pd.concat([filtered_data, hashtags_filtered])\n",
    "\n",
    "        if users != None:\n",
    "            users_filter = [re.sub(r'(.*)', r'\\\\b\\1\\\\b', user) for user in users]\n",
    "            users_regex = '|'.join(users_filter)\n",
    "            users_filtered = data.loc[data['from_user'].str.contains(users_regex)]\n",
    "            filtered_data = pd.concat([filtered_data, users_filtered])\n",
    "\n",
    "        if locs != None:\n",
    "            locs_filter = [re.sub(r'(.*)', r'\\\\b\\1\\\\b', loc) for loc in locs]\n",
    "            locs_regex = '|'.join(locs_filter)\n",
    "            locs_filtered = data.loc[data['location'].str.contains(locs_regex)]\n",
    "            filtered_data = pd.concat([filtered_data, locs_filtered])\n",
    "\n",
    "        if mentions != None:\n",
    "            mentions_filter = [re.sub(r'(.*)', r'\\\\b\\1\\\\b', mention) for mention in mentions]\n",
    "            mentions_regex = '|'.join(mentions_filter)\n",
    "            mentions_filtered = data.loc[data['mention'].str.contains(mentions_regex)]\n",
    "            filtered_data = pd.concat([filtered_data, mentions_filtered])\n",
    "     \n",
    "        return filtered_data.drop_duplicates()\n",
    "    \n",
    "class API:\n",
    "    def __init__(self, directory, frac=1, seed=123):\n",
    "        if frac < 1:\n",
    "            self.data = spark.read.parquet(directory).sample(False, frac, seed)\n",
    "        else:\n",
    "            self.data = spark.read.parquet(directory)\n",
    "          \n",
    "    def get_raw_data(self):\n",
    "         return self.data\n",
    "\n",
    "    def get_filtered_data(self, terms=[], hashtags=None, users=None, locs=None, mentions=None):   \n",
    "        return filter_data(self.data, terms, hashtags, users, locs, mentions)\n",
    "    \n",
    "    \n",
    "class DataPreprocessor():\n",
    "    def __init__(self, data, topic, load_labled=False, filter_empty_hashtags=False):\n",
    "        if filter_empty_hashtags == True:\n",
    "            self.data = data.filter(col(\"hashtag\") != \"empty_hashtag\")\n",
    "        else:\n",
    "            self.data = data\n",
    "\n",
    "        if load_labled == True:\n",
    "            labled_dir = \"/mnt/1e69d2b1-91a9-473c-a164-db90daf43a3d/labeled_data/\" + topic\n",
    "            pos_dir = labled_dir + \"/pos\"\n",
    "            topical_tweet_ids = spark.read.parquet(pos_dir)\n",
    "            topical_tweets = topical_tweet_ids.join(self.data, \"tweet_id\").withColumn(\"label\", lit(1))\n",
    "            \n",
    "            neg_dir = labled_dir + \"/neg\"\n",
    "            non_topical_tweet_ids = spark.read.parquet(neg_dir).sample(False, 0.1, 123)\n",
    "            non_topical_tweets = non_topical_tweet_ids.join(self.data, \"tweet_id\").withColumn(\"label\", lit(0))\n",
    "\n",
    "            self.labled_data = topical_tweets.union(non_topical_tweets)\n",
    "        else:\n",
    "            self.labled_data = None\n",
    "\n",
    "        tokenizer = Tokenizer(inputCol=\"hashtag\", outputCol=\"each_hashtag\")\n",
    "        hashtags_df = tokenizer.transform(self.data)\n",
    "\n",
    "        hashtag = hashtags_df.select(\"tweet_id\",\"create_time\",\"each_hashtag\")\n",
    "        self.hash_exploded = hashtag.withColumn('each_hashtag', explode('each_hashtag'))\n",
    "    \n",
    "    def get_labled_data(self, topic):\n",
    "        if self.labled_data == None:\n",
    "            topic_lables = topic_dict[topic]\n",
    "\n",
    "            topical_ids = self.hash_exploded.select(self.hash_exploded.tweet_id)\\\n",
    "                                                    .where(self.hash_exploded.each_hashtag\\\n",
    "                                                            .isin(topic_lables))\\\n",
    "                                                    .distinct().cache()\n",
    "\n",
    "            labled_topical = topical_ids.withColumn(\"topical\", lit(1))\n",
    "            self.labled_data = self.data.join(labled_topical, self.data.tweet_id == labled_topical.tweet_id, \"left\")\\\n",
    "                                                      .select(self.data.create_time,\\\n",
    "                                                             self.data.from_id,\\\n",
    "                                                             self.data.from_user,\\\n",
    "                                                             self.data.hashtag,\\\n",
    "                                                             self.data.location,\\\n",
    "                                                             self.data.mention,\\\n",
    "                                                             self.data.tweet_id,\\\n",
    "                                                             self.data.term,\\\n",
    "                                                              F.when(labled_topical.topical == 1, 1.0)\\\n",
    "                                                                .otherwise(0.0).alias(\"label\"))\n",
    "        return self.labled_data\n",
    "    \n",
    "    def get_num_of_positvies(self):\n",
    "        if self.labled_data == None:\n",
    "            return 0\n",
    "        \n",
    "        return self.labled_data.where(col(\"label\") == 1.0).count()\n",
    "    \n",
    "    def get_data_size(self):\n",
    "        if self.labled_data == None:\n",
    "            return 0\n",
    "        \n",
    "        return self.labled_data.count()\n",
    "        \n",
    "    def temporal_split(self, topic, balance_data=True, seed=0, remove_topic_hashtags=False):\n",
    "        topic_lables = topic_dict[topic]\n",
    "        labled_data = self.get_labled_data(topic)\n",
    "        tweet_labels = labled_data.select(\"tweet_id\", \"label\")\n",
    "        \n",
    "        df_birthday = self.hash_exploded.join(tweet_labels,\\\n",
    "                                 self.hash_exploded.tweet_id == tweet_labels.tweet_id,\\\n",
    "                                 \"inner\").select(self.hash_exploded.create_time,\\\n",
    "                                                 self.hash_exploded.each_hashtag,\\\n",
    "                                                 self.hash_exploded.tweet_id)\n",
    "        \n",
    "        ## Find out the \"birthday\", or the earliest appearing time of each hashtag. \n",
    "        ## (add an extra column of 1 to mark as topical, will be used in a join later)\n",
    "        ordered_hashtag_set = df_birthday.\\\n",
    "                              groupby(\"each_hashtag\").\\\n",
    "                              agg({\"create_time\": \"min\"}).\\\n",
    "                              orderBy('min(create_time)', ascending=True).\\\n",
    "                              withColumnRenamed(\"min(create_time)\", \"birthday\").\\\n",
    "                              where(df_birthday.each_hashtag.isin(topic_lables)).cache()\n",
    "                            \n",
    "        time_span = ordered_hashtag_set.count()\n",
    "\n",
    "        train_valid_split_time = np.floor(np.multiply(time_span, 0.75)).astype(int)\n",
    "        valid_test_split_time = np.floor(np.multiply(time_span, 0.85)).astype(int)\n",
    "\n",
    "        # Converting to Pandas for random row access.\n",
    "        pd_ordered_hashtag_set = ordered_hashtag_set.toPandas()\n",
    "        \n",
    "        # locate the timestamp of the cutoff point. Will be used later to split Dataframe.\n",
    "        train_valid_time = pd_ordered_hashtag_set.iloc[train_valid_split_time]['birthday']\n",
    "        valid_test_time = pd_ordered_hashtag_set.iloc[valid_test_split_time]['birthday']\n",
    "    \n",
    "        training_set = labled_data.where(col(\"create_time\") <= train_valid_time)\n",
    "        validation_set = labled_data.where((col(\"create_time\") > train_valid_time) \\\n",
    "                                           & (col(\"create_time\") <= valid_test_time))\n",
    "        test_set = labled_data.where(col(\"create_time\") > valid_test_time)\n",
    "        \n",
    "        if remove_topic_hashtags == True:\n",
    "            train_hashtags = pd_ordered_hashtag_set[:train_valid_split_time]['each_hashtag'].tolist()\n",
    "            train_valid_hashtags = pd_ordered_hashtag_set[:valid_test_split_time]['each_hashtag'].tolist()\n",
    "            \n",
    "            train_hashtags_filter = [re.sub(r'(.*)', r'\\\\b\\1\\\\b', hashtag) for hashtag in train_hashtags]\n",
    "            train_hashtags_regex = '|'.join(train_hashtags_filter)\n",
    "            invalid_validation_ids = (validation_set.filter(validation_set['hashtag'].rlike(train_hashtags_regex)))\\\n",
    "                                        .select(\"tweet_id\").distinct().rdd.flatMap(lambda x: x).collect()\n",
    "            validation_set = validation_set.where(~col(\"tweet_id\").isin(invalid_validation_ids))\n",
    "            \n",
    "            train_valid_hashtags_filter = [re.sub(r'(.*)', r'\\\\b\\1\\\\b', hashtag) for hashtag in train_valid_hashtags]\n",
    "            train_valid_hashtags_regex = '|'.join(train_valid_hashtags_filter)\n",
    "            invalid_test_ids = (test_set.filter(test_set['hashtag'].rlike(train_valid_hashtags_regex)))\\\n",
    "                                        .select(\"tweet_id\").distinct().rdd.flatMap(lambda x: x).collect()\n",
    "                \n",
    "            test_set = test_set.where(~col(\"tweet_id\").isin(invalid_test_ids))\n",
    "        \n",
    "        if balance_data == True:\n",
    "            train_pos_count = training_set.where(col(\"label\") == 1).count()\n",
    "            train_neg_count = training_set.count() - train_pos_count\n",
    "            train_pos_neg_ratio = float(train_pos_count) / train_neg_count\n",
    "            \n",
    "            training_set = training_set.sampleBy(\"label\", fractions={0.0: train_pos_neg_ratio, 1.0: 1}, seed=seed)\n",
    "            \n",
    "            valid_pos_count = validation_set.where(col(\"label\") == 1).count()\n",
    "            valid_neg_count = validation_set.count() - valid_pos_count\n",
    "            valid_pos_neg_ratio = float(valid_pos_count) / valid_neg_count\n",
    "            \n",
    "            validation_set = validation_set.sampleBy(\"label\", fractions={0.0: valid_pos_neg_ratio, 1.0: 1}, seed=seed)\n",
    "            \n",
    "        return training_set, validation_set, test_set"
   ]
  },
  {
   "cell_type": "markdown",
   "metadata": {},
   "source": [
    "### Change Classifier Pipeline:\n",
    "\n",
    "* filter test data (not train+valid)"
   ]
  },
  {
   "cell_type": "code",
   "execution_count": 168,
   "metadata": {
    "collapsed": false
   },
   "outputs": [],
   "source": [
    "class TestFramework:\n",
    "    def __init__(self, train, valid, test):\n",
    "        self.train = train\n",
    "        self.valid = valid\n",
    "        self.test = test\n",
    "                \n",
    "        print(\"Initializing Classifier....\")\n",
    "        self.pipeline = self.initialize_pipeline()\n",
    "        print(\"Complete!\")\n",
    "        self.analyzer = ClassifierAnalyzer(self.pipeline)\n",
    "        \n",
    "    def initialize_pipeline(self):        \n",
    "        train_features = self.train.drop('label', axis=1)\n",
    "        train_target = self.train['label']\n",
    "        \n",
    "        validation_features = self.valid.drop('label', axis=1)\n",
    "        valid_target = self.valid['label']\n",
    "        \n",
    "        feature_transformer = FeatureUnion(\n",
    "                                    transformer_list=[\n",
    "                                        ('term', Pipeline([\n",
    "                                            ('selector', ItemSelector(key='term')),\n",
    "                                            ('count', CountVectorizer(stop_words='english', min_df=5)),\n",
    "                                        ])),\n",
    "\n",
    "                                        ('hashtag', Pipeline([\n",
    "                                            ('selector', ItemSelector(key='hashtag')),\n",
    "                                            ('count', CountVectorizer(min_df=5)),\n",
    "                                        ])),\n",
    "\n",
    "                                        ('user', Pipeline([\n",
    "                                            ('selector', ItemSelector(key='from_user')),\n",
    "                                            ('count', CountVectorizer(min_df=5)),\n",
    "                                        ])),\n",
    "\n",
    "                                        ('location', Pipeline([\n",
    "                                            ('selector', ItemSelector(key='location')),\n",
    "                                            ('count', CountVectorizer(min_df=5)),\n",
    "                                        ])),\n",
    "\n",
    "                                        ('mention', Pipeline([\n",
    "                                            ('selector', ItemSelector(key='mention')),\n",
    "                                            ('count', CountVectorizer(min_df=5)),\n",
    "                                        ]))\n",
    "                                    ])\n",
    "            \n",
    "        train_valid = pd.concat([train_features, validation_features])\n",
    "        train_valid_target = pd.concat([train_target, valid_target])\n",
    "\n",
    "        train_valid_transformed = feature_transformer.fit_transform(train_valid)\n",
    "        \n",
    "        train_transformed = feature_transformer.transform(train_features)\n",
    "        valid_transformed = feature_transformer.transform(validation_features)\n",
    "        \n",
    "        # select c for best accuracy\n",
    "        Cs = [100] #[0.01, 0.1, 1, 10, 100] TEMP\n",
    "        best_classifier = None\n",
    "        best_score = 0\n",
    "        \n",
    "        for c in Cs:\n",
    "            classifier = LogisticRegression(C=c)\n",
    "            classifier.fit(train_transformed, train_target)    \n",
    "            c_score = classifier.score(valid_transformed, valid_target)\n",
    "            if c_score > best_score:\n",
    "                best_classifier = classifier\n",
    "                best_score = c_score\n",
    "               \n",
    "        return Pipeline(steps=[('features', feature_transformer), ('classifier', best_classifier)])\n",
    "\n",
    "    def get_pipeline(self):\n",
    "        return self.pipeline\n",
    "    \n",
    "    def get_top_features(self, k):\n",
    "        top_terms, top_hashtags, top_users, top_locs, top_mentions = self.analyzer.get_top_features(k)\n",
    "        \n",
    "        print(\"Top Terms: \", top_terms)\n",
    "        print(\"Top Hashtags: \", top_hashtags)\n",
    "        print(\"Top Users: \", top_users)\n",
    "        print(\"Top Locations: \", top_locs)\n",
    "        print(\"Top Mentions: \", top_mentions)\n",
    "    \n",
    "    def get_top_features(self, k):\n",
    "        return self.analyzer.get_top_features(k)\n",
    "    \n",
    "    def get_filtered_test_data(self, k, verbose=False):\n",
    "        top_terms, top_hashtags, top_users, top_locs, top_mentions = self.get_top_features(k)\n",
    "        \n",
    "        if verbose == True:\n",
    "            print(\"Top Terms: \", top_terms)\n",
    "            print(\"Top Hashtags: \", top_hashtags)\n",
    "            print(\"Top Users: \", top_users)\n",
    "            print(\"Top Locations: \", top_locs)\n",
    "            print(\"Top Mentions: \", top_mentions)\n",
    "\n",
    "        data = filter_data(self.test, top_terms, top_hashtags, top_users, top_locs, top_mentions)\n",
    "        \n",
    "        return data\n",
    "    \n",
    "    def get_filtered_data_by_index(self, indexes):\n",
    "        features = get_feature_by_index(self.pipeline, indexes)\n",
    "        \n",
    "        terms = features[features.Type == \"Term\"].Feature.tolist()\n",
    "        hashtags = features[features.Type == \"Hashtag\"].Feature.tolist()\n",
    "        users = features[features.Type == \"User\"].Feature.tolist()\n",
    "        locs = features[features.Type == \"Location\"].Feature.tolist()\n",
    "        mentions = features[features.Type == \"Mention\"].Feature.tolist()\n",
    "        \n",
    "        data = filter_data(self.test, terms, hashtags, users, locs, mentions)\n",
    "        \n",
    "        return data\n",
    "        \n",
    "    def get_baseline_performance(self):\n",
    "        test_features = self.test.drop('label', axis=1)\n",
    "        test_target = self.test['label']\n",
    "\n",
    "        predictions = self.pipeline.predict_proba(test_features)[:, 1]\n",
    "        \n",
    "        return model_evaluation_summary(test_target, predictions)\n",
    "    \n",
    "    def run_config_by_index(self, indexes):\n",
    "        test = self.get_filtered_data_by_index(indexes)\n",
    "        \n",
    "        test_features = test.drop('label', axis=1)\n",
    "        test_target = test['label']\n",
    "\n",
    "        predictions = self.pipeline.predict_proba(test_features)[:, 1]\n",
    "        \n",
    "        return model_evaluation_summary(test_target, predictions)\n",
    "     \n",
    "    def run_configs(self, configs=[]):\n",
    "        pipelines = []\n",
    "        positive_counts = []\n",
    "        total_counts = []\n",
    "        aveps = []\n",
    "        prec_recall = []\n",
    "        \n",
    "        for config in configs:\n",
    "            test = self.get_filtered_test_data(config)\n",
    "            positive_counts.append(len(test[test.label == 1]))     \n",
    "            total_counts.append(len(test))\n",
    "            \n",
    "            test_features = test.drop('label', axis=1)\n",
    "            test_target = test['label']\n",
    "            \n",
    "            predictions = self.pipeline.predict_proba(test_features)[:, 1]\n",
    "            aveps.append(average_precision_score(test_target, predictions))\n",
    "\n",
    "            precision, recall, _ = precision_recall_curve(test_target, predictions)\n",
    "            prec_recall.append([precision, recall])\n",
    "            \n",
    "        return positive_counts, total_counts, pipelines, aveps, prec_recall"
   ]
  },
  {
   "cell_type": "code",
   "execution_count": 6,
   "metadata": {
    "collapsed": true
   },
   "outputs": [],
   "source": [
    "directory = \"/mnt/66e695cd-1a0c-4e3b-9a50-55e01b788529/Training_data/Staging_final/\"\n",
    "api = API(directory)\n",
    "raw_data = api.get_raw_data()"
   ]
  },
  {
   "cell_type": "code",
   "execution_count": 5,
   "metadata": {
    "collapsed": true
   },
   "outputs": [],
   "source": [
    "p = spark.read.parquet(\"/mnt/1e69d2b1-91a9-473c-a164-db90daf43a3d/labeled_data/Natr_Disaster/pos\")"
   ]
  },
  {
   "cell_type": "code",
   "execution_count": null,
   "metadata": {
    "collapsed": false
   },
   "outputs": [],
   "source": [
    "no_hashtag_count = raw_data.where(col(\"hashtag\") == \"empty_hashtag\").count()\n",
    "total_count = raw_data.count()"
   ]
  },
  {
   "cell_type": "code",
   "execution_count": null,
   "metadata": {
    "collapsed": false
   },
   "outputs": [],
   "source": [
    "print(float(no_hashtag_count)/total_count)"
   ]
  },
  {
   "cell_type": "markdown",
   "metadata": {},
   "source": [
    "80% of the tweets do not contain hashtags so it is not very ideal to drop all of them. "
   ]
  },
  {
   "cell_type": "code",
   "execution_count": null,
   "metadata": {
    "collapsed": false
   },
   "outputs": [],
   "source": [
    "output_directory = \"/mnt/1e69d2b1-91a9-473c-a164-db90daf43a3d/labeled_data/\"\n",
    "topic = \"Natr_Disaster\"\n",
    "\n",
    "dp = DataPreprocessor(raw_data)\n",
    "labled_data = dp.get_labled_data(topic).select(\"tweet_id\", \"label\")"
   ]
  },
  {
   "cell_type": "code",
   "execution_count": null,
   "metadata": {
    "collapsed": true
   },
   "outputs": [],
   "source": [
    "positives = labled_data.where(col('label') == 1).select(\"tweet_id\")\n",
    "negatives = labled_data.where(col('label') == 0).select(\"tweet_id\")"
   ]
  },
  {
   "cell_type": "markdown",
   "metadata": {},
   "source": [
    "(~88k positives)"
   ]
  },
  {
   "cell_type": "code",
   "execution_count": null,
   "metadata": {
    "collapsed": false
   },
   "outputs": [],
   "source": [
    "pos_dir = output_directory + topic + \"/pos\" \n",
    "positives.write.save(pos_dir, format=\"parquet\")"
   ]
  },
  {
   "cell_type": "code",
   "execution_count": null,
   "metadata": {
    "collapsed": false
   },
   "outputs": [],
   "source": [
    "neg_dir = output_directory + topic + \"/neg\"\n",
    "negatives.write.save(neg_dir, format=\"parquet\")"
   ]
  },
  {
   "cell_type": "markdown",
   "metadata": {},
   "source": [
    "# Store and Load Splitted Labeled Data"
   ]
  },
  {
   "cell_type": "markdown",
   "metadata": {},
   "source": [
    "### (CSV SAVE)\n",
    "[\n",
    "\n",
    "TODO: \n",
    "* Validation balanced before removing train hashtags. must run and store again\n",
    "* Investigate NaN Values\n",
    "\n",
    "]\n",
    "\n",
    "Store Splitted and labeled data as csv to be read easily and fast by pandas:"
   ]
  },
  {
   "cell_type": "code",
   "execution_count": 14,
   "metadata": {
    "collapsed": false
   },
   "outputs": [],
   "source": [
    "dp = DataPreprocessor(raw_data, \"Natr_Disaster\", load_labled=True, filter_empty_hashtags=True)"
   ]
  },
  {
   "cell_type": "code",
   "execution_count": 76,
   "metadata": {
    "collapsed": false
   },
   "outputs": [],
   "source": [
    "train, valid, test = dp.temporal_split(\"Natr_Disaster\", remove_topic_hashtags=True)"
   ]
  },
  {
   "cell_type": "code",
   "execution_count": 79,
   "metadata": {
    "collapsed": false
   },
   "outputs": [
    {
     "data": {
      "text/plain": [
       "3947513"
      ]
     },
     "execution_count": 79,
     "metadata": {},
     "output_type": "execute_result"
    }
   ],
   "source": [
    "test.count()"
   ]
  },
  {
   "cell_type": "code",
   "execution_count": 80,
   "metadata": {
    "collapsed": true
   },
   "outputs": [],
   "source": [
    "temporal_split_directory = '/mnt/1e69d2b1-91a9-473c-a164-db90daf43a3d/splitted_data/'\n",
    "topic = \"Natr_Disaster\"\n",
    "\n",
    "train_pd = train.toPandas()\n",
    "train_pd.to_csv(temporal_split_directory + topic + \"/training.csv\", encoding='utf-8', index=False)"
   ]
  },
  {
   "cell_type": "code",
   "execution_count": 81,
   "metadata": {
    "collapsed": true
   },
   "outputs": [],
   "source": [
    "valid_pd = valid.toPandas()\n",
    "valid_pd.to_csv(temporal_split_directory + topic + \"/validation.csv\", encoding='utf-8', index=False)"
   ]
  },
  {
   "cell_type": "code",
   "execution_count": 82,
   "metadata": {
    "collapsed": false
   },
   "outputs": [],
   "source": [
    "test_pd = test.sample(False, 0.3, 123).toPandas()\n",
    "test_pd.to_csv(temporal_split_directory + topic + \"/test.csv\", encoding='utf-8', index=False)"
   ]
  },
  {
   "cell_type": "markdown",
   "metadata": {},
   "source": [
    "### (CSV LOAD)"
   ]
  },
  {
   "cell_type": "code",
   "execution_count": 7,
   "metadata": {
    "collapsed": false
   },
   "outputs": [
    {
     "name": "stderr",
     "output_type": "stream",
     "text": [
      "/usr/lib/python2.7/site-packages/IPython/core/interactiveshell.py:2717: DtypeWarning: Columns (1,2) have mixed types. Specify dtype option on import or set low_memory=False.\n",
      "  interactivity=interactivity, compiler=compiler, result=result)\n"
     ]
    }
   ],
   "source": [
    "temporal_split_directory = '/mnt/1e69d2b1-91a9-473c-a164-db90daf43a3d/splitted_data/'\n",
    "topic = \"Natr_Disaster\"\n",
    "\n",
    "train_pd = pd.read_csv(temporal_split_directory + topic + \"/training.csv\").dropna()\n",
    "validation_pd = pd.read_csv(temporal_split_directory + topic + \"/validation.csv\").dropna()\n",
    "test_pd = pd.read_csv(temporal_split_directory + topic + \"/test.csv\").dropna()"
   ]
  },
  {
   "cell_type": "markdown",
   "metadata": {},
   "source": [
    "# Test Classifier"
   ]
  },
  {
   "cell_type": "code",
   "execution_count": 169,
   "metadata": {
    "collapsed": false
   },
   "outputs": [
    {
     "name": "stdout",
     "output_type": "stream",
     "text": [
      "Initializing Classifier....\n",
      "Complete!\n"
     ]
    }
   ],
   "source": [
    "tf = TestFramework(train_pd, validation_pd, test_pd)"
   ]
  },
  {
   "cell_type": "code",
   "execution_count": 171,
   "metadata": {
    "collapsed": false
   },
   "outputs": [],
   "source": [
    "baseline_patk, baseline_ratk, baseline_avep, baseline_prec_recall = tf.get_baseline_performance()"
   ]
  },
  {
   "cell_type": "code",
   "execution_count": 183,
   "metadata": {
    "collapsed": false
   },
   "outputs": [],
   "source": [
    "configs = [[50, 50, 50, 50, 50]]\n",
    "positive_counts, total_counts, pipelines, aveps, prec_recall = tf.run_configs(configs)"
   ]
  },
  {
   "cell_type": "markdown",
   "metadata": {},
   "source": [
    "# GUROBI\n",
    "\n",
    "## [Cell Coverage Example](http://examples.gurobi.com/cell-tower-coverage/)"
   ]
  },
  {
   "cell_type": "code",
   "execution_count": 9,
   "metadata": {
    "collapsed": true
   },
   "outputs": [],
   "source": [
    "from gurobipy import *"
   ]
  },
  {
   "cell_type": "code",
   "execution_count": 27,
   "metadata": {
    "collapsed": false
   },
   "outputs": [
    {
     "name": "stdout",
     "output_type": "stream",
     "text": [
      "Optimize a model with 10 rows, 15 columns and 36 nonzeros\n",
      "Variable types: 0 continuous, 15 integer (15 binary)\n",
      "Coefficient statistics:\n",
      "  Matrix range     [1e+00, 9e+00]\n",
      "  Objective range  [4e+02, 1e+03]\n",
      "  Bounds range     [1e+00, 1e+00]\n",
      "  RHS range        [2e+01, 2e+01]\n",
      "Found heuristic solution: objective -0.0000000\n",
      "Presolve removed 4 rows and 5 columns\n",
      "Presolve time: 0.00s\n",
      "Presolved: 6 rows, 10 columns, 21 nonzeros\n",
      "Variable types: 0 continuous, 10 integer (10 binary)\n",
      "\n",
      "Root relaxation: objective 7.051000e+03, 1 iterations, 0.00 seconds\n",
      "\n",
      "    Nodes    |    Current Node    |     Objective Bounds      |     Work\n",
      " Expl Unexpl |  Obj  Depth IntInf | Incumbent    BestBd   Gap | It/Node Time\n",
      "\n",
      "*    0     0               0    7051.0000000 7051.00000  0.00%     -    0s\n",
      "\n",
      "Explored 0 nodes (1 simplex iterations) in 0.01 seconds\n",
      "Thread count was 32 (of 40 available processors)\n",
      "\n",
      "Solution count 2: 7051 -0 \n",
      "\n",
      "Optimal solution found (tolerance 1.00e-04)\n",
      "Best objective 7.051000000000e+03, best bound 7.051000000000e+03, gap 0.0000%\n"
     ]
    }
   ],
   "source": [
    "# Problem Data\n",
    "# Population in each region\n",
    "pop = [523, 690, 420, 1010, 1200, 850, 400, 1008, 950]\n",
    "# Regions covered by each tower\n",
    "sites = [[0,1,5], [0,7,8], [2,3,4,6], [2,5,6], [0,2,6,7,8], [3,4,8]]\n",
    "# Cost to build tower (in millions of dollars)\n",
    "cost = [4.2, 6.1, 5.2, 5.5, 4.8, 9.2]\n",
    "# Allocated budget (in millions of dollars)\n",
    "budget = 20\n",
    "\n",
    "numR = len(pop) # Number of regions\n",
    "numT = len(sites) # Number of sites for towers\n",
    "\n",
    "m = Model()\n",
    "\n",
    "t = {} # Binary variables for each tower\n",
    "r = {} # Binary variable for each region\n",
    "\n",
    "for i in range(numT):\n",
    "    t[i] = m.addVar(vtype=GRB.BINARY, name=\"t%d\" % i)\n",
    "\n",
    "for j in range(numR):\n",
    "    r[j] = m.addVar(vtype=GRB.BINARY, name=\"r%d\" % j)\n",
    "\n",
    "m.update()\n",
    "\n",
    "for j in range(numR):\n",
    "    m.addConstr(quicksum(t[i] for i in range(numT) if j in sites[i]) >= r[j])\n",
    "\n",
    "m.addConstr(quicksum( cost[i]*t[i] for i in range(numT) ) <= budget)\n",
    "\n",
    "m.setObjective(quicksum( pop[j]*r[j] for j in range(numR) ), GRB.MAXIMIZE)\n",
    "\n",
    "m.optimize()"
   ]
  },
  {
   "cell_type": "markdown",
   "metadata": {},
   "source": [
    "We can Model the API query problem similarly. For a basic implementation, we should define a list like sites which indicates which tweets are covered by each feature.\n",
    "Since our priority is to cover the maximum number of positive tweets, we will use only the positive set initially."
   ]
  },
  {
   "cell_type": "code",
   "execution_count": 12,
   "metadata": {
    "collapsed": false
   },
   "outputs": [],
   "source": [
    "topical_tweets = test_pd[test_pd.label == 1]\n",
    "\n",
    "pipeline = tf.get_pipeline()\n",
    "positive_set = pipeline.named_steps['features'].transform(topical_tweets)"
   ]
  },
  {
   "cell_type": "code",
   "execution_count": 112,
   "metadata": {
    "collapsed": false
   },
   "outputs": [],
   "source": [
    "num_tweets = positive_set.shape[0]\n",
    "num_features = positive_set.shape[1]\n",
    "\n",
    "feature_coverage = []\n",
    "top_coverages = []\n",
    "max_coverage_indexes = []\n",
    "\n",
    "for i in range(num_features):\n",
    "    coverage = positive_set[:, i].nonzero()[0]\n",
    "    if len(coverage) > 50:\n",
    "        top_coverages.append(len(coverage))\n",
    "        max_coverage_indexes.append(i)\n",
    "    feature_coverage.append(coverage)"
   ]
  },
  {
   "cell_type": "code",
   "execution_count": 144,
   "metadata": {
    "collapsed": false
   },
   "outputs": [
    {
     "data": {
      "text/html": [
       "<div>\n",
       "<table border=\"1\" class=\"dataframe\">\n",
       "  <thead>\n",
       "    <tr style=\"text-align: right;\">\n",
       "      <th></th>\n",
       "      <th>Feature</th>\n",
       "      <th>Type</th>\n",
       "      <th>Coverage</th>\n",
       "    </tr>\n",
       "  </thead>\n",
       "  <tbody>\n",
       "    <tr>\n",
       "      <th>0</th>\n",
       "      <td>2014</td>\n",
       "      <td>Term</td>\n",
       "      <td>51</td>\n",
       "    </tr>\n",
       "    <tr>\n",
       "      <th>1</th>\n",
       "      <td>ago</td>\n",
       "      <td>Term</td>\n",
       "      <td>63</td>\n",
       "    </tr>\n",
       "    <tr>\n",
       "      <th>2</th>\n",
       "      <td>amp</td>\n",
       "      <td>Term</td>\n",
       "      <td>245</td>\n",
       "    </tr>\n",
       "    <tr>\n",
       "      <th>3</th>\n",
       "      <td>army</td>\n",
       "      <td>Term</td>\n",
       "      <td>84</td>\n",
       "    </tr>\n",
       "    <tr>\n",
       "      <th>4</th>\n",
       "      <td>california</td>\n",
       "      <td>Term</td>\n",
       "      <td>104</td>\n",
       "    </tr>\n",
       "    <tr>\n",
       "      <th>5</th>\n",
       "      <td>check</td>\n",
       "      <td>Term</td>\n",
       "      <td>54</td>\n",
       "    </tr>\n",
       "    <tr>\n",
       "      <th>6</th>\n",
       "      <td>flood</td>\n",
       "      <td>Term</td>\n",
       "      <td>64</td>\n",
       "    </tr>\n",
       "    <tr>\n",
       "      <th>7</th>\n",
       "      <td>floods</td>\n",
       "      <td>Term</td>\n",
       "      <td>70</td>\n",
       "    </tr>\n",
       "    <tr>\n",
       "      <th>8</th>\n",
       "      <td>gt</td>\n",
       "      <td>Term</td>\n",
       "      <td>54</td>\n",
       "    </tr>\n",
       "    <tr>\n",
       "      <th>9</th>\n",
       "      <td>help</td>\n",
       "      <td>Term</td>\n",
       "      <td>130</td>\n",
       "    </tr>\n",
       "    <tr>\n",
       "      <th>10</th>\n",
       "      <td>hit</td>\n",
       "      <td>Term</td>\n",
       "      <td>73</td>\n",
       "    </tr>\n",
       "    <tr>\n",
       "      <th>11</th>\n",
       "      <td>http</td>\n",
       "      <td>Term</td>\n",
       "      <td>206</td>\n",
       "    </tr>\n",
       "    <tr>\n",
       "      <th>12</th>\n",
       "      <td>hurricane</td>\n",
       "      <td>Term</td>\n",
       "      <td>156</td>\n",
       "    </tr>\n",
       "    <tr>\n",
       "      <th>13</th>\n",
       "      <td>indian</td>\n",
       "      <td>Term</td>\n",
       "      <td>95</td>\n",
       "    </tr>\n",
       "    <tr>\n",
       "      <th>14</th>\n",
       "      <td>just</td>\n",
       "      <td>Term</td>\n",
       "      <td>84</td>\n",
       "    </tr>\n",
       "    <tr>\n",
       "      <th>15</th>\n",
       "      <td>kashmir</td>\n",
       "      <td>Term</td>\n",
       "      <td>108</td>\n",
       "    </tr>\n",
       "    <tr>\n",
       "      <th>16</th>\n",
       "      <td>need</td>\n",
       "      <td>Term</td>\n",
       "      <td>72</td>\n",
       "    </tr>\n",
       "    <tr>\n",
       "      <th>17</th>\n",
       "      <td>new</td>\n",
       "      <td>Term</td>\n",
       "      <td>88</td>\n",
       "    </tr>\n",
       "    <tr>\n",
       "      <th>18</th>\n",
       "      <td>people</td>\n",
       "      <td>Term</td>\n",
       "      <td>194</td>\n",
       "    </tr>\n",
       "    <tr>\n",
       "      <th>19</th>\n",
       "      <td>philippines</td>\n",
       "      <td>Term</td>\n",
       "      <td>103</td>\n",
       "    </tr>\n",
       "    <tr>\n",
       "      <th>20</th>\n",
       "      <td>rain</td>\n",
       "      <td>Term</td>\n",
       "      <td>54</td>\n",
       "    </tr>\n",
       "    <tr>\n",
       "      <th>21</th>\n",
       "      <td>relief</td>\n",
       "      <td>Term</td>\n",
       "      <td>91</td>\n",
       "    </tr>\n",
       "    <tr>\n",
       "      <th>22</th>\n",
       "      <td>rescue</td>\n",
       "      <td>Term</td>\n",
       "      <td>95</td>\n",
       "    </tr>\n",
       "    <tr>\n",
       "      <th>23</th>\n",
       "      <td>rt</td>\n",
       "      <td>Term</td>\n",
       "      <td>1947</td>\n",
       "    </tr>\n",
       "    <tr>\n",
       "      <th>24</th>\n",
       "      <td>storm</td>\n",
       "      <td>Term</td>\n",
       "      <td>95</td>\n",
       "    </tr>\n",
       "    <tr>\n",
       "      <th>25</th>\n",
       "      <td>today</td>\n",
       "      <td>Term</td>\n",
       "      <td>83</td>\n",
       "    </tr>\n",
       "    <tr>\n",
       "      <th>26</th>\n",
       "      <td>typhoon</td>\n",
       "      <td>Term</td>\n",
       "      <td>124</td>\n",
       "    </tr>\n",
       "    <tr>\n",
       "      <th>27</th>\n",
       "      <td>water</td>\n",
       "      <td>Term</td>\n",
       "      <td>64</td>\n",
       "    </tr>\n",
       "    <tr>\n",
       "      <th>28</th>\n",
       "      <td>year</td>\n",
       "      <td>Term</td>\n",
       "      <td>62</td>\n",
       "    </tr>\n",
       "    <tr>\n",
       "      <th>29</th>\n",
       "      <td>years</td>\n",
       "      <td>Term</td>\n",
       "      <td>51</td>\n",
       "    </tr>\n",
       "    <tr>\n",
       "      <th>30</th>\n",
       "      <td>bertha</td>\n",
       "      <td>Hashtag</td>\n",
       "      <td>99</td>\n",
       "    </tr>\n",
       "    <tr>\n",
       "      <th>31</th>\n",
       "      <td>drought</td>\n",
       "      <td>Hashtag</td>\n",
       "      <td>70</td>\n",
       "    </tr>\n",
       "    <tr>\n",
       "      <th>32</th>\n",
       "      <td>earthquake</td>\n",
       "      <td>Hashtag</td>\n",
       "      <td>271</td>\n",
       "    </tr>\n",
       "    <tr>\n",
       "      <th>33</th>\n",
       "      <td>flood</td>\n",
       "      <td>Hashtag</td>\n",
       "      <td>106</td>\n",
       "    </tr>\n",
       "    <tr>\n",
       "      <th>34</th>\n",
       "      <td>haiyan</td>\n",
       "      <td>Hashtag</td>\n",
       "      <td>70</td>\n",
       "    </tr>\n",
       "    <tr>\n",
       "      <th>35</th>\n",
       "      <td>hurricane</td>\n",
       "      <td>Hashtag</td>\n",
       "      <td>200</td>\n",
       "    </tr>\n",
       "    <tr>\n",
       "      <th>36</th>\n",
       "      <td>hurricanes</td>\n",
       "      <td>Hashtag</td>\n",
       "      <td>75</td>\n",
       "    </tr>\n",
       "    <tr>\n",
       "      <th>37</th>\n",
       "      <td>kashmir</td>\n",
       "      <td>Hashtag</td>\n",
       "      <td>58</td>\n",
       "    </tr>\n",
       "    <tr>\n",
       "      <th>38</th>\n",
       "      <td>katrina</td>\n",
       "      <td>Hashtag</td>\n",
       "      <td>99</td>\n",
       "    </tr>\n",
       "    <tr>\n",
       "      <th>39</th>\n",
       "      <td>odile</td>\n",
       "      <td>Hashtag</td>\n",
       "      <td>108</td>\n",
       "    </tr>\n",
       "    <tr>\n",
       "      <th>40</th>\n",
       "      <td>philippines</td>\n",
       "      <td>Hashtag</td>\n",
       "      <td>61</td>\n",
       "    </tr>\n",
       "    <tr>\n",
       "      <th>41</th>\n",
       "      <td>prayforthephilippines</td>\n",
       "      <td>Hashtag</td>\n",
       "      <td>59</td>\n",
       "    </tr>\n",
       "    <tr>\n",
       "      <th>42</th>\n",
       "      <td>quake</td>\n",
       "      <td>Hashtag</td>\n",
       "      <td>58</td>\n",
       "    </tr>\n",
       "    <tr>\n",
       "      <th>43</th>\n",
       "      <td>sandy</td>\n",
       "      <td>Hashtag</td>\n",
       "      <td>116</td>\n",
       "    </tr>\n",
       "    <tr>\n",
       "      <th>44</th>\n",
       "      <td>storm</td>\n",
       "      <td>Hashtag</td>\n",
       "      <td>168</td>\n",
       "    </tr>\n",
       "    <tr>\n",
       "      <th>45</th>\n",
       "      <td>tornado</td>\n",
       "      <td>Hashtag</td>\n",
       "      <td>86</td>\n",
       "    </tr>\n",
       "    <tr>\n",
       "      <th>46</th>\n",
       "      <td>tsunami</td>\n",
       "      <td>Hashtag</td>\n",
       "      <td>62</td>\n",
       "    </tr>\n",
       "    <tr>\n",
       "      <th>47</th>\n",
       "      <td>typhoon</td>\n",
       "      <td>Hashtag</td>\n",
       "      <td>154</td>\n",
       "    </tr>\n",
       "    <tr>\n",
       "      <th>48</th>\n",
       "      <td>empty_location</td>\n",
       "      <td>Location</td>\n",
       "      <td>898</td>\n",
       "    </tr>\n",
       "    <tr>\n",
       "      <th>49</th>\n",
       "      <td>loc_philippines</td>\n",
       "      <td>Location</td>\n",
       "      <td>52</td>\n",
       "    </tr>\n",
       "    <tr>\n",
       "      <th>50</th>\n",
       "      <td>empty_mention</td>\n",
       "      <td>Mention</td>\n",
       "      <td>979</td>\n",
       "    </tr>\n",
       "  </tbody>\n",
       "</table>\n",
       "</div>"
      ],
      "text/plain": [
       "                  Feature      Type  Coverage\n",
       "0                    2014      Term        51\n",
       "1                     ago      Term        63\n",
       "2                     amp      Term       245\n",
       "3                    army      Term        84\n",
       "4              california      Term       104\n",
       "5                   check      Term        54\n",
       "6                   flood      Term        64\n",
       "7                  floods      Term        70\n",
       "8                      gt      Term        54\n",
       "9                    help      Term       130\n",
       "10                    hit      Term        73\n",
       "11                   http      Term       206\n",
       "12              hurricane      Term       156\n",
       "13                 indian      Term        95\n",
       "14                   just      Term        84\n",
       "15                kashmir      Term       108\n",
       "16                   need      Term        72\n",
       "17                    new      Term        88\n",
       "18                 people      Term       194\n",
       "19            philippines      Term       103\n",
       "20                   rain      Term        54\n",
       "21                 relief      Term        91\n",
       "22                 rescue      Term        95\n",
       "23                     rt      Term      1947\n",
       "24                  storm      Term        95\n",
       "25                  today      Term        83\n",
       "26                typhoon      Term       124\n",
       "27                  water      Term        64\n",
       "28                   year      Term        62\n",
       "29                  years      Term        51\n",
       "30                 bertha   Hashtag        99\n",
       "31                drought   Hashtag        70\n",
       "32             earthquake   Hashtag       271\n",
       "33                  flood   Hashtag       106\n",
       "34                 haiyan   Hashtag        70\n",
       "35              hurricane   Hashtag       200\n",
       "36             hurricanes   Hashtag        75\n",
       "37                kashmir   Hashtag        58\n",
       "38                katrina   Hashtag        99\n",
       "39                  odile   Hashtag       108\n",
       "40            philippines   Hashtag        61\n",
       "41  prayforthephilippines   Hashtag        59\n",
       "42                  quake   Hashtag        58\n",
       "43                  sandy   Hashtag       116\n",
       "44                  storm   Hashtag       168\n",
       "45                tornado   Hashtag        86\n",
       "46                tsunami   Hashtag        62\n",
       "47                typhoon   Hashtag       154\n",
       "48         empty_location  Location       898\n",
       "49        loc_philippines  Location        52\n",
       "50          empty_mention   Mention       979"
      ]
     },
     "execution_count": 144,
     "metadata": {},
     "output_type": "execute_result"
    }
   ],
   "source": [
    "get_feature_by_index(pipeline, max_coverage_indexes, top_coverages)"
   ]
  },
  {
   "cell_type": "markdown",
   "metadata": {},
   "source": [
    "empty_location and empty_mention cannot be used in the actual API. even if they could be used, they will retrieve a lot of non-topical tweets which is not desirable. therefore remove them from the problem here:"
   ]
  },
  {
   "cell_type": "code",
   "execution_count": 114,
   "metadata": {
    "collapsed": false
   },
   "outputs": [
    {
     "data": {
      "text/plain": [
       "22716"
      ]
     },
     "execution_count": 114,
     "metadata": {},
     "output_type": "execute_result"
    }
   ],
   "source": [
    "len(feature_coverage)"
   ]
  },
  {
   "cell_type": "code",
   "execution_count": 115,
   "metadata": {
    "collapsed": false
   },
   "outputs": [],
   "source": [
    "empty_loc_index, empty_mention_index = get_empty_feature_indexes(pipeline)\n",
    "del(feature_coverage[empty_loc_index])\n",
    "del(feature_coverage[empty_mention_index-1])"
   ]
  },
  {
   "cell_type": "code",
   "execution_count": 116,
   "metadata": {
    "collapsed": false
   },
   "outputs": [
    {
     "data": {
      "text/plain": [
       "22714"
      ]
     },
     "execution_count": 116,
     "metadata": {},
     "output_type": "execute_result"
    }
   ],
   "source": [
    "len(feature_coverage)"
   ]
  },
  {
   "cell_type": "code",
   "execution_count": 64,
   "metadata": {
    "collapsed": false
   },
   "outputs": [
    {
     "data": {
      "text/plain": [
       "[array([], dtype=int32),\n",
       " array([], dtype=int32),\n",
       " array([1929], dtype=int32),\n",
       " array([], dtype=int32),\n",
       " array([], dtype=int32),\n",
       " array([2052], dtype=int32),\n",
       " array([], dtype=int32),\n",
       " array([1415, 2839], dtype=int32),\n",
       " array([], dtype=int32),\n",
       " array([], dtype=int32),\n",
       " array([ 471,  613, 1350, 2044, 2286, 2413, 2487, 2506, 2569, 2585, 2686,\n",
       "        2913, 2964], dtype=int32),\n",
       " array([229, 753], dtype=int32),\n",
       " array([], dtype=int32),\n",
       " array([], dtype=int32),\n",
       " array([2592, 2983], dtype=int32),\n",
       " array([132, 527, 738], dtype=int32),\n",
       " array([], dtype=int32),\n",
       " array([], dtype=int32),\n",
       " array([1087, 2488], dtype=int32),\n",
       " array([], dtype=int32)]"
      ]
     },
     "execution_count": 64,
     "metadata": {},
     "output_type": "execute_result"
    }
   ],
   "source": [
    "feature_coverage[:20]"
   ]
  },
  {
   "cell_type": "markdown",
   "metadata": {},
   "source": [
    "## Max Cover Formulation\n",
    "\n",
    "Now that we have the coverages for each feature, let's try solving max cover using gurobi:\n",
    "\n",
    "![](maxcover_formulation.png)"
   ]
  },
  {
   "cell_type": "code",
   "execution_count": 118,
   "metadata": {
    "collapsed": false
   },
   "outputs": [
    {
     "name": "stdout",
     "output_type": "stream",
     "text": [
      "Optimize a model with 3291 rows, 26004 columns and 53658 nonzeros\n",
      "Variable types: 0 continuous, 26004 integer (26004 binary)\n",
      "Coefficient statistics:\n",
      "  Matrix range     [1e+00, 1e+00]\n",
      "  Objective range  [1e+00, 1e+00]\n",
      "  Bounds range     [1e+00, 1e+00]\n",
      "  RHS range        [5e+01, 5e+01]\n",
      "Found heuristic solution: objective -0.0000000\n",
      "Presolve removed 327 rows and 20463 columns\n",
      "Presolve time: 0.10s\n",
      "Presolved: 2964 rows, 5541 columns, 26458 nonzeros\n",
      "Variable types: 0 continuous, 5541 integer (5541 binary)\n",
      "\n",
      "Root relaxation: objective 3.158000e+03, 1088 iterations, 0.05 seconds\n",
      "\n",
      "    Nodes    |    Current Node    |     Objective Bounds      |     Work\n",
      " Expl Unexpl |  Obj  Depth IntInf | Incumbent    BestBd   Gap | It/Node Time\n",
      "\n",
      "*    0     0               0    3158.0000000 3158.00000  0.00%     -    0s\n",
      "\n",
      "Explored 0 nodes (1088 simplex iterations) in 0.19 seconds\n",
      "Thread count was 32 (of 40 available processors)\n",
      "\n",
      "Solution count 2: 3158 -0 \n",
      "\n",
      "Optimal solution found (tolerance 1.00e-04)\n",
      "Best objective 3.158000000000e+03, best bound 3.158000000000e+03, gap 0.0000%\n"
     ]
    }
   ],
   "source": [
    "# Number of features selected\n",
    "k = 50\n",
    "\n",
    "num_features = len(feature_coverage)\n",
    "# num_tweets : Number of Tweets\n",
    "# feature_coverage: tweets covered by each feature\n",
    "\n",
    "m = Model()\n",
    "\n",
    "f = {} # Binary variable for each feature\n",
    "t = {} # Binary variables for each tweet\n",
    "\n",
    "for i in range(num_features):\n",
    "    f[i] = m.addVar(vtype=GRB.BINARY, name=\"f%d\" % i)\n",
    "\n",
    "for j in range(num_tweets):\n",
    "    t[j] = m.addVar(vtype=GRB.BINARY, name=\"t%d\" % j)\n",
    "\n",
    "m.update()\n",
    "\n",
    "for j in range(num_tweets):\n",
    "    m.addConstr(quicksum(f[i] for i in range(num_features) if j in feature_coverage[i]) >= t[j])\n",
    "\n",
    "m.addConstr(quicksum(f[i] for i in range(num_features)) <= k)\n",
    "\n",
    "m.setObjective(quicksum(t[j] for j in range(num_tweets)), GRB.MAXIMIZE)\n",
    "\n",
    "m.optimize()"
   ]
  },
  {
   "cell_type": "code",
   "execution_count": 123,
   "metadata": {
    "collapsed": false
   },
   "outputs": [],
   "source": [
    "model_vars = m.getVars()[:num_features]\n",
    "selected_features_index = []\n",
    "\n",
    "for i in range(len(model_vars)):\n",
    "    if model_vars[i].X > 0:\n",
    "        selected_features_index.append(i)"
   ]
  },
  {
   "cell_type": "code",
   "execution_count": 161,
   "metadata": {
    "collapsed": false
   },
   "outputs": [
    {
     "data": {
      "text/html": [
       "<div>\n",
       "<table border=\"1\" class=\"dataframe\">\n",
       "  <thead>\n",
       "    <tr style=\"text-align: right;\">\n",
       "      <th></th>\n",
       "      <th>Feature</th>\n",
       "      <th>Type</th>\n",
       "    </tr>\n",
       "  </thead>\n",
       "  <tbody>\n",
       "    <tr>\n",
       "      <th>0</th>\n",
       "      <td>amp</td>\n",
       "      <td>Term</td>\n",
       "    </tr>\n",
       "    <tr>\n",
       "      <th>1</th>\n",
       "      <td>damage</td>\n",
       "      <td>Term</td>\n",
       "    </tr>\n",
       "    <tr>\n",
       "      <th>2</th>\n",
       "      <td>day</td>\n",
       "      <td>Term</td>\n",
       "    </tr>\n",
       "    <tr>\n",
       "      <th>3</th>\n",
       "      <td>earthquake</td>\n",
       "      <td>Term</td>\n",
       "    </tr>\n",
       "    <tr>\n",
       "      <th>4</th>\n",
       "      <td>family</td>\n",
       "      <td>Term</td>\n",
       "    </tr>\n",
       "    <tr>\n",
       "      <th>5</th>\n",
       "      <td>flood</td>\n",
       "      <td>Term</td>\n",
       "    </tr>\n",
       "    <tr>\n",
       "      <th>6</th>\n",
       "      <td>good</td>\n",
       "      <td>Term</td>\n",
       "    </tr>\n",
       "    <tr>\n",
       "      <th>7</th>\n",
       "      <td>help</td>\n",
       "      <td>Term</td>\n",
       "    </tr>\n",
       "    <tr>\n",
       "      <th>8</th>\n",
       "      <td>hurricane</td>\n",
       "      <td>Term</td>\n",
       "    </tr>\n",
       "    <tr>\n",
       "      <th>9</th>\n",
       "      <td>indian</td>\n",
       "      <td>Term</td>\n",
       "    </tr>\n",
       "    <tr>\n",
       "      <th>10</th>\n",
       "      <td>just</td>\n",
       "      <td>Term</td>\n",
       "    </tr>\n",
       "    <tr>\n",
       "      <th>11</th>\n",
       "      <td>kashmir</td>\n",
       "      <td>Term</td>\n",
       "    </tr>\n",
       "    <tr>\n",
       "      <th>12</th>\n",
       "      <td>life</td>\n",
       "      <td>Term</td>\n",
       "    </tr>\n",
       "    <tr>\n",
       "      <th>13</th>\n",
       "      <td>live</td>\n",
       "      <td>Term</td>\n",
       "    </tr>\n",
       "    <tr>\n",
       "      <th>14</th>\n",
       "      <td>need</td>\n",
       "      <td>Term</td>\n",
       "    </tr>\n",
       "    <tr>\n",
       "      <th>15</th>\n",
       "      <td>people</td>\n",
       "      <td>Term</td>\n",
       "    </tr>\n",
       "    <tr>\n",
       "      <th>16</th>\n",
       "      <td>pm</td>\n",
       "      <td>Term</td>\n",
       "    </tr>\n",
       "    <tr>\n",
       "      <th>17</th>\n",
       "      <td>quake</td>\n",
       "      <td>Term</td>\n",
       "    </tr>\n",
       "    <tr>\n",
       "      <th>18</th>\n",
       "      <td>rescue</td>\n",
       "      <td>Term</td>\n",
       "    </tr>\n",
       "    <tr>\n",
       "      <th>19</th>\n",
       "      <td>rt</td>\n",
       "      <td>Term</td>\n",
       "    </tr>\n",
       "    <tr>\n",
       "      <th>20</th>\n",
       "      <td>safe</td>\n",
       "      <td>Term</td>\n",
       "    </tr>\n",
       "    <tr>\n",
       "      <th>21</th>\n",
       "      <td>state</td>\n",
       "      <td>Term</td>\n",
       "    </tr>\n",
       "    <tr>\n",
       "      <th>22</th>\n",
       "      <td>today</td>\n",
       "      <td>Term</td>\n",
       "    </tr>\n",
       "    <tr>\n",
       "      <th>23</th>\n",
       "      <td>water</td>\n",
       "      <td>Term</td>\n",
       "    </tr>\n",
       "    <tr>\n",
       "      <th>24</th>\n",
       "      <td>work</td>\n",
       "      <td>Term</td>\n",
       "    </tr>\n",
       "    <tr>\n",
       "      <th>25</th>\n",
       "      <td>year</td>\n",
       "      <td>Term</td>\n",
       "    </tr>\n",
       "    <tr>\n",
       "      <th>26</th>\n",
       "      <td>arthur</td>\n",
       "      <td>Hashtag</td>\n",
       "    </tr>\n",
       "    <tr>\n",
       "      <th>27</th>\n",
       "      <td>bertha</td>\n",
       "      <td>Hashtag</td>\n",
       "    </tr>\n",
       "    <tr>\n",
       "      <th>28</th>\n",
       "      <td>cholera</td>\n",
       "      <td>Hashtag</td>\n",
       "    </tr>\n",
       "    <tr>\n",
       "      <th>29</th>\n",
       "      <td>drought</td>\n",
       "      <td>Hashtag</td>\n",
       "    </tr>\n",
       "    <tr>\n",
       "      <th>30</th>\n",
       "      <td>earthquake</td>\n",
       "      <td>Hashtag</td>\n",
       "    </tr>\n",
       "    <tr>\n",
       "      <th>31</th>\n",
       "      <td>flood</td>\n",
       "      <td>Hashtag</td>\n",
       "    </tr>\n",
       "    <tr>\n",
       "      <th>32</th>\n",
       "      <td>haiyan</td>\n",
       "      <td>Hashtag</td>\n",
       "    </tr>\n",
       "    <tr>\n",
       "      <th>33</th>\n",
       "      <td>hurricane</td>\n",
       "      <td>Hashtag</td>\n",
       "    </tr>\n",
       "    <tr>\n",
       "      <th>34</th>\n",
       "      <td>hurricanekatrina</td>\n",
       "      <td>Hashtag</td>\n",
       "    </tr>\n",
       "    <tr>\n",
       "      <th>35</th>\n",
       "      <td>hurricanes</td>\n",
       "      <td>Hashtag</td>\n",
       "    </tr>\n",
       "    <tr>\n",
       "      <th>36</th>\n",
       "      <td>hurricanesandy</td>\n",
       "      <td>Hashtag</td>\n",
       "    </tr>\n",
       "    <tr>\n",
       "      <th>37</th>\n",
       "      <td>julio</td>\n",
       "      <td>Hashtag</td>\n",
       "    </tr>\n",
       "    <tr>\n",
       "      <th>38</th>\n",
       "      <td>kashmir</td>\n",
       "      <td>Hashtag</td>\n",
       "    </tr>\n",
       "    <tr>\n",
       "      <th>39</th>\n",
       "      <td>katrina</td>\n",
       "      <td>Hashtag</td>\n",
       "    </tr>\n",
       "    <tr>\n",
       "      <th>40</th>\n",
       "      <td>odile</td>\n",
       "      <td>Hashtag</td>\n",
       "    </tr>\n",
       "    <tr>\n",
       "      <th>41</th>\n",
       "      <td>philippines</td>\n",
       "      <td>Hashtag</td>\n",
       "    </tr>\n",
       "    <tr>\n",
       "      <th>42</th>\n",
       "      <td>prayforthephilippines</td>\n",
       "      <td>Hashtag</td>\n",
       "    </tr>\n",
       "    <tr>\n",
       "      <th>43</th>\n",
       "      <td>quake</td>\n",
       "      <td>Hashtag</td>\n",
       "    </tr>\n",
       "    <tr>\n",
       "      <th>44</th>\n",
       "      <td>sandy</td>\n",
       "      <td>Hashtag</td>\n",
       "    </tr>\n",
       "    <tr>\n",
       "      <th>45</th>\n",
       "      <td>storm</td>\n",
       "      <td>Hashtag</td>\n",
       "    </tr>\n",
       "    <tr>\n",
       "      <th>46</th>\n",
       "      <td>tornado</td>\n",
       "      <td>Hashtag</td>\n",
       "    </tr>\n",
       "    <tr>\n",
       "      <th>47</th>\n",
       "      <td>tsunami</td>\n",
       "      <td>Hashtag</td>\n",
       "    </tr>\n",
       "    <tr>\n",
       "      <th>48</th>\n",
       "      <td>typhoon</td>\n",
       "      <td>Hashtag</td>\n",
       "    </tr>\n",
       "    <tr>\n",
       "      <th>49</th>\n",
       "      <td>loc_neverlandâ</td>\n",
       "      <td>Location</td>\n",
       "    </tr>\n",
       "  </tbody>\n",
       "</table>\n",
       "</div>"
      ],
      "text/plain": [
       "                  Feature      Type\n",
       "0                     amp      Term\n",
       "1                  damage      Term\n",
       "2                     day      Term\n",
       "3              earthquake      Term\n",
       "4                  family      Term\n",
       "5                   flood      Term\n",
       "6                    good      Term\n",
       "7                    help      Term\n",
       "8               hurricane      Term\n",
       "9                  indian      Term\n",
       "10                   just      Term\n",
       "11                kashmir      Term\n",
       "12                   life      Term\n",
       "13                   live      Term\n",
       "14                   need      Term\n",
       "15                 people      Term\n",
       "16                     pm      Term\n",
       "17                  quake      Term\n",
       "18                 rescue      Term\n",
       "19                     rt      Term\n",
       "20                   safe      Term\n",
       "21                  state      Term\n",
       "22                  today      Term\n",
       "23                  water      Term\n",
       "24                   work      Term\n",
       "25                   year      Term\n",
       "26                 arthur   Hashtag\n",
       "27                 bertha   Hashtag\n",
       "28                cholera   Hashtag\n",
       "29                drought   Hashtag\n",
       "30             earthquake   Hashtag\n",
       "31                  flood   Hashtag\n",
       "32                 haiyan   Hashtag\n",
       "33              hurricane   Hashtag\n",
       "34       hurricanekatrina   Hashtag\n",
       "35             hurricanes   Hashtag\n",
       "36         hurricanesandy   Hashtag\n",
       "37                  julio   Hashtag\n",
       "38                kashmir   Hashtag\n",
       "39                katrina   Hashtag\n",
       "40                  odile   Hashtag\n",
       "41            philippines   Hashtag\n",
       "42  prayforthephilippines   Hashtag\n",
       "43                  quake   Hashtag\n",
       "44                  sandy   Hashtag\n",
       "45                  storm   Hashtag\n",
       "46                tornado   Hashtag\n",
       "47                tsunami   Hashtag\n",
       "48                typhoon   Hashtag\n",
       "49         loc_neverlandâ  Location"
      ]
     },
     "execution_count": 161,
     "metadata": {},
     "output_type": "execute_result"
    }
   ],
   "source": [
    "get_feature_by_index(pipeline, selected_features_index)"
   ]
  },
  {
   "cell_type": "code",
   "execution_count": 176,
   "metadata": {
    "collapsed": false
   },
   "outputs": [],
   "source": [
    "maxcover_patk, maxcover_ratk, maxcover_avep, maxcover_prec_recall = tf.run_config_by_index(selected_features_index)"
   ]
  },
  {
   "cell_type": "code",
   "execution_count": 181,
   "metadata": {
    "collapsed": false
   },
   "outputs": [],
   "source": [
    "max_cover_filtered_data = tf.get_filtered_data_by_index(selected_features_index)"
   ]
  },
  {
   "cell_type": "markdown",
   "metadata": {},
   "source": [
    "## Filtered Data Statistics\n",
    "\n",
    "### By Top Weighted Classifier Coefficients (K = 50 from each feature type (term, hashtag, user, location, mention))"
   ]
  },
  {
   "cell_type": "code",
   "execution_count": 193,
   "metadata": {
    "collapsed": true
   },
   "outputs": [],
   "source": [
    "total_positives = len(test_pd[test_pd.label == 1])\n",
    "total_count = len(test_pd)"
   ]
  },
  {
   "cell_type": "code",
   "execution_count": 194,
   "metadata": {
    "collapsed": false
   },
   "outputs": [
    {
     "name": "stdout",
     "output_type": "stream",
     "text": [
      "Total Tweets Retrieved = 26139\n",
      "Ratio of Tweets Retrieved = 0.02\n",
      "Topical Tweets Retrieved = 866\n",
      "Topcial Tweets Recall = 0.26\n"
     ]
    }
   ],
   "source": [
    "print(\"Total Tweets Retrieved = {0}\".format(total_counts[0]))\n",
    "print(\"Ratio of Tweets Retrieved = {:0.2f}\".format((float)(total_counts[0]) / total_count))\n",
    "\n",
    "\n",
    "print(\"Topical Tweets Retrieved = {0}\".format(positive_counts[0]))\n",
    "print(\"Topcial Tweets Recall = {:0.2f}\".format((float)(positive_counts[0]) / total_positives))"
   ]
  },
  {
   "cell_type": "markdown",
   "metadata": {},
   "source": [
    "### By Max Coverage Model Solution (K = 50 total features)"
   ]
  },
  {
   "cell_type": "code",
   "execution_count": 213,
   "metadata": {
    "collapsed": false
   },
   "outputs": [
    {
     "name": "stdout",
     "output_type": "stream",
     "text": [
      "Total Tweets Retrieved = 1183128\n",
      "Ratio of Tweets Retrieved = 0.9999\n",
      "Topical Tweets Retrieved = 3158\n",
      "Topcial Tweets Recall = 0.96\n"
     ]
    }
   ],
   "source": [
    "print(\"Total Tweets Retrieved = {0}\".format(len(max_cover_filtered_data)))\n",
    "print(\"Ratio of Tweets Retrieved = {:0.4f}\".format((float)(len(max_cover_filtered_data)) / total_count))\n",
    "\n",
    "pos_retrieved = len(max_cover_filtered_data[max_cover_filtered_data.label == 1])\n",
    "print(\"Topical Tweets Retrieved = {0}\".format(3158))\n",
    "print(\"Topcial Tweets Recall = {:0.2f}\".format((float)(3158) / total_positives))"
   ]
  },
  {
   "cell_type": "markdown",
   "metadata": {},
   "source": [
    "# Classifier Performance"
   ]
  },
  {
   "cell_type": "code",
   "execution_count": 218,
   "metadata": {
    "collapsed": false
   },
   "outputs": [
    {
     "name": "stdout",
     "output_type": "stream",
     "text": [
      "Baseline AveP = 0.6836\n",
      "Top Weighted AveP = 0.7814\n",
      "Max Cover AveP = 0.6836\n"
     ]
    }
   ],
   "source": [
    "print(\"Baseline AveP = {:0.4f}\".format(baseline_avep))\n",
    "print(\"Top Weighted AveP = {:0.4f}\".format(aveps[0]))\n",
    "print(\"Max Cover AveP = {:0.4f}\".format(maxcover_avep))"
   ]
  },
  {
   "cell_type": "code",
   "execution_count": 229,
   "metadata": {
    "collapsed": true
   },
   "outputs": [],
   "source": [
    "weighted_recall_scaled = ((float)(positive_counts[0]) / total_positives) * prec_recall[0][1] \n",
    "weighted_maxcover_recall_scaled = ((float)(3158) / total_positives) * maxcover_prec_recall[1]"
   ]
  },
  {
   "cell_type": "code",
   "execution_count": 241,
   "metadata": {
    "collapsed": false
   },
   "outputs": [
    {
     "data": {
      "image/png": "[encoded data removed]",
      "text/plain": [
       "<matplotlib.figure.Figure at 0x246c1850>"
      ]
     },
     "metadata": {},
     "output_type": "display_data"
    }
   ],
   "source": [
    "colors = ['r', 'b', 'g', 'k', 'm']\n",
    "k = ('w/o hashtags', 'w/o users', 'w/o location', 'w/o mention', 'All Selected')\n",
    "\n",
    "plt.step(baseline_prec_recall[1], baseline_prec_recall[0], color=colors[0], label=\"Baseline\")\n",
    "plt.step(weighted_recall_scaled, prec_recall[0][0], color=colors[1], label=\"Clf Weights\")\n",
    "plt.step(weighted_maxcover_recall_scaled, maxcover_prec_recall[0], color=colors[2], label=\"MaxCover\")\n",
    "\n",
    "plt.xlabel('Recall')\n",
    "plt.ylabel('Precision')\n",
    "plt.legend(loc=1)\n",
    "plt.ylim([0.0, 1.05])\n",
    "plt.xlim([0.0, 1.0])\n",
    "plt.title('LogReg Precision-Recall For Different Filtering Methods')\n",
    "plt.show()"
   ]
  }
 ],
 "metadata": {
  "kernelspec": {
   "display_name": "Python 2",
   "language": "python",
   "name": "python2"
  },
  "language_info": {
   "codemirror_mode": {
    "name": "ipython",
    "version": 2
   },
   "file_extension": ".py",
   "mimetype": "text/x-python",
   "name": "python",
   "nbconvert_exporter": "python",
   "pygments_lexer": "ipython2",
   "version": "2.7.5"
  }
 },
 "nbformat": 4,
 "nbformat_minor": 2
}
